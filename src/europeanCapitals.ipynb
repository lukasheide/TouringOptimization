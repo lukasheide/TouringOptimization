{
 "cells": [
  {
   "cell_type": "code",
   "execution_count": 31,
   "id": "2ece3847",
   "metadata": {},
   "outputs": [],
   "source": [
    "import pandas as pd\n",
    "import numpy as np\n",
    "from geopy import geocoders, Nominatim\n",
    "from geopy.distance import great_circle as GC  \n",
    "\n",
    "import json\n",
    "import requests\n",
    "import networkx as nx\n",
    "\n",
    "import random\n",
    "import itertools \n",
    "\n",
    "import plotly.graph_objects as go\n",
    "import plotly.express as px\n",
    "\n",
    "import folium\n",
    "import geopandas as gpd\n",
    "import earthpy as et"
   ]
  },
  {
   "cell_type": "markdown",
   "id": "b2b8910e",
   "metadata": {},
   "source": [
    "## 1) Import Coordinates from European Capitals:"
   ]
  },
  {
   "cell_type": "code",
   "execution_count": 32,
   "id": "1c5137f7",
   "metadata": {},
   "outputs": [
    {
     "name": "stdout",
     "output_type": "stream",
     "text": [
      "[{'city': 'Berlin', 'coord': (52.5186925, 13.3996024)}, {'city': 'Bielefeld', 'coord': (52.0191005, 8.531007)}, {'city': 'Bremen', 'coord': (53.0758196, 8.8071646)}, {'city': 'Dresden', 'coord': (51.0493286, 13.7381437)}, {'city': 'Duesseldorf', 'coord': (51.19077325, 6.793516713552313)}, {'city': 'Frankfurt', 'coord': (50.1106444, 8.6820917)}, {'city': 'Goettingen', 'coord': (51.50032665, 9.950655394459552)}, {'city': 'Hamburg', 'coord': (53.550341, 10.000654)}, {'city': 'Hannover', 'coord': (52.3744779, 9.7385532)}, {'city': 'Karlsruhe', 'coord': (49.0068705, 8.4034195)}, {'city': 'Kassel', 'coord': (51.3154546, 9.4924096)}, {'city': 'Munich', 'coord': (48.1371079, 11.5753822)}, {'city': 'Münster', 'coord': (51.9625101, 7.6251879)}, {'city': 'Osnabrueck', 'coord': (52.2733042, 8.0455442)}, {'city': 'Siegen', 'coord': (50.8749804, 8.0227233)}, {'city': 'Stuttgart', 'coord': (48.7784485, 9.1800132)}]\n"
     ]
    }
   ],
   "source": [
    "# Define list of cities:\n",
    "cities = [\n",
    "    'Berlin',\n",
    "    'Munich',\n",
    "    'Hamburg',\n",
    "    'Bielefeld',\n",
    "    'Münster',\n",
    "    'Stuttgart',\n",
    "    'Karlsruhe',\n",
    "    'Duesseldorf',\n",
    "    # 'Cologne',\n",
    "    'Osnabrueck',\n",
    "    'Frankfurt',\n",
    "    'Goettingen',\n",
    "    'Siegen',\n",
    "    'Kassel',\n",
    "    'Hannover',\n",
    "    'Bremen',\n",
    "    'Dresden'\n",
    "]\n",
    "\n",
    "# Sort list in alphabetical order:\n",
    "cities.sort()\n",
    "\n",
    "# Get coordinates and create list of cities including name and coordinates:\n",
    "geolocator = Nominatim(user_agent=\"TSP_GermanCities\")\n",
    "\n",
    "city_and_coords = []\n",
    "for city in cities:\n",
    "    \n",
    "    loc = geolocator.geocode(city)\n",
    "    \n",
    "    city_and_coords.append({\n",
    "        'city': city,\n",
    "        'coord': (loc.latitude,loc.longitude)\n",
    "    })\n",
    "    \n",
    "print(city_and_coords)"
   ]
  },
  {
   "cell_type": "markdown",
   "id": "0c306f20",
   "metadata": {},
   "source": [
    "## 2) Compute Distance Matrix"
   ]
  },
  {
   "cell_type": "code",
   "execution_count": 33,
   "id": "8690634b",
   "metadata": {},
   "outputs": [],
   "source": [
    "# create variable coords as a list containing only the coordinates as tuples\n",
    "coords = []\n",
    "for city in city_and_coords:\n",
    "    coords.append(city['coord'])\n",
    "\n",
    "def get_distance(point1: tuple, point2: tuple) -> int:\n",
    "\n",
    "    # air distance\n",
    "    dist = GC(point1, point2).km\n",
    "\n",
    "    return round(dist,4)\n",
    "\n",
    "\n",
    "def compute_dist_matrix(coords: list, city_names:list, verbose=False, format='DataFrame') -> pd.DataFrame:\n",
    "    # Create empty np-array:\n",
    "    dist_array = np.empty((len(coords),len(coords)))\n",
    "    \n",
    "    # Compute distances:\n",
    "    for i in range(0,len(coords)):\n",
    "        for j in range(0,len(coords)):\n",
    "            if i < j:\n",
    "                dist = get_distance(coords[i],coords[j])\n",
    "                \n",
    "                if verbose:\n",
    "                    print('Distance between: ' + city_names[i] + ' and ' + city_names[j] + ': ' + str(dist) +'km')\n",
    "\n",
    "                dist_array[i][j] = dist\n",
    "                dist_array[j][i] = dist\n",
    "\n",
    "            elif i == j:\n",
    "                dist_array[i][i] = 0\n",
    "                \n",
    "    # Create pandas distance matrix:\n",
    "    dist_array_df = pd.DataFrame(data=dist_array, index=city_names, columns=city_names)\n",
    "    \n",
    "    if format == 'NumpyArray':\n",
    "        return dist_array\n",
    "    else:\n",
    "        return dist_array_df"
   ]
  },
  {
   "cell_type": "code",
   "execution_count": 34,
   "outputs": [
    {
     "data": {
      "text/plain": "[(52.5186925, 13.3996024),\n (52.0191005, 8.531007),\n (53.0758196, 8.8071646),\n (51.0493286, 13.7381437),\n (51.19077325, 6.793516713552313),\n (50.1106444, 8.6820917),\n (51.50032665, 9.950655394459552),\n (53.550341, 10.000654),\n (52.3744779, 9.7385532),\n (49.0068705, 8.4034195),\n (51.3154546, 9.4924096),\n (48.1371079, 11.5753822),\n (51.9625101, 7.6251879),\n (52.2733042, 8.0455442),\n (50.8749804, 8.0227233),\n (48.7784485, 9.1800132)]"
     },
     "execution_count": 34,
     "metadata": {},
     "output_type": "execute_result"
    }
   ],
   "source": [
    "coords"
   ],
   "metadata": {
    "collapsed": false,
    "pycharm": {
     "name": "#%%\n"
    }
   }
  },
  {
   "cell_type": "code",
   "execution_count": 35,
   "id": "31548215",
   "metadata": {},
   "outputs": [
    {
     "data": {
      "text/plain": "               Berlin  Bielefeld    Bremen   Dresden  Duesseldorf  Frankfurt  \\\nBerlin         0.0000   335.8487  314.8566  165.0368     476.9274   423.1692   \nBielefeld    335.8487     0.0000  118.9762  375.8700     151.2603   212.4733   \nBremen       314.8566   118.9762    0.0000  405.3340     250.6272   329.8259   \nDresden      165.0368   375.8700  405.3340    0.0000     484.7826   371.8607   \nDuesseldorf  476.9274   151.2603  250.6272  484.7826       0.0000   179.3050   \nFrankfurt    423.1692   212.4733  329.8259  371.8607     179.3050     0.0000   \nGoettingen   261.7780   113.4624  191.6699  268.1632     221.9457   178.3879   \nHamburg      254.5455   196.8640   95.2370  376.6347     340.8797   393.0447   \nHannover     248.6129    91.2963  100.0783  312.4249     241.5640   262.2419   \nKarlsruhe    525.0843   335.0665  453.3248  443.4585     268.6039   124.3690   \nKassel       299.4648   102.5557  201.2363  297.3691     188.3294   145.6095   \nMunich       504.0817   483.1370  582.7572  359.3530     483.2822   304.0686   \nMünster      397.9020    62.3418  147.3759  434.9571     103.2794   218.7715   \nOsnabrueck   364.2186    43.5460  102.9542  415.4325     148.0627   244.5315   \nSiegen       413.0609   132.0060  250.5474  400.6443      92.8500    96.9473   \nStuttgart    511.1601   363.2648  478.5587  412.5242     317.8697   152.4439   \n\n             Goettingen   Hamburg  Hannover  Karlsruhe    Kassel    Munich  \\\nBerlin         261.7780  254.5455  248.6129   525.0843  299.4648  504.0817   \nBielefeld      113.4624  196.8640   91.2963   335.0665  102.5557  483.1370   \nBremen         191.6699   95.2370  100.0783   453.3248  201.2363  582.7572   \nDresden        268.1632  376.6347  312.4249   443.4585  297.3691  359.3530   \nDuesseldorf    221.9457  340.8797  241.5640   268.6039  188.3294  483.2822   \nFrankfurt      178.3879  393.0447  262.2419   124.3690  145.6095  304.0686   \nGoettingen       0.0000  227.9766   98.2827   298.2673   37.8524  391.6918   \nHamburg        227.9766    0.0000  131.9231   517.2468  250.8839  611.9540   \nHannover        98.2827  131.9231    0.0000   386.0734  118.9658  488.8929   \nKarlsruhe      298.2673  517.2468  386.0734     0.0000  268.1601  252.5986   \nKassel          37.8524  250.8839  118.9658   268.1601    0.0000  383.7837   \nMunich         391.6918  611.9540  488.8929   252.5986  383.7837    0.0000   \nMünster        168.1866  238.1501  151.2305   333.2275  147.5756  510.2079   \nOsnabrueck     156.4636  193.2511  115.6064   364.0858  145.7515  523.9108   \nSiegen         151.2849  326.5553  204.5120   209.5027  113.7185  398.0092   \nStuttgart      307.5973  533.6776  401.7978    62.1970  282.9824  190.4797   \n\n              Münster  Osnabrueck    Siegen  Stuttgart  \nBerlin       397.9020    364.2186  413.0609   511.1601  \nBielefeld     62.3418     43.5460  132.0060   363.2648  \nBremen       147.3759    102.9542  250.5474   478.5587  \nDresden      434.9571    415.4325  400.6443   412.5242  \nDuesseldorf  103.2794    148.0627   92.8500   317.8697  \nFrankfurt    218.7715    244.5315   96.9473   152.4439  \nGoettingen   168.1866    156.4636  151.2849   307.5973  \nHamburg      238.1501    193.2511  326.5553   533.6776  \nHannover     151.2305    115.6064  204.5120   401.7978  \nKarlsruhe    333.2275    364.0858  209.5027    62.1970  \nKassel       147.5756    145.7515  113.7185   282.9824  \nMunich       510.2079    523.9108  398.0092   190.4797  \nMünster        0.0000     44.9227  124.0297   370.8039  \nOsnabrueck    44.9227      0.0000  155.4947   396.7855  \nSiegen       124.0297    155.4947    0.0000   247.4553  \nStuttgart    370.8039    396.7855  247.4553     0.0000  ",
      "text/html": "<div>\n<style scoped>\n    .dataframe tbody tr th:only-of-type {\n        vertical-align: middle;\n    }\n\n    .dataframe tbody tr th {\n        vertical-align: top;\n    }\n\n    .dataframe thead th {\n        text-align: right;\n    }\n</style>\n<table border=\"1\" class=\"dataframe\">\n  <thead>\n    <tr style=\"text-align: right;\">\n      <th></th>\n      <th>Berlin</th>\n      <th>Bielefeld</th>\n      <th>Bremen</th>\n      <th>Dresden</th>\n      <th>Duesseldorf</th>\n      <th>Frankfurt</th>\n      <th>Goettingen</th>\n      <th>Hamburg</th>\n      <th>Hannover</th>\n      <th>Karlsruhe</th>\n      <th>Kassel</th>\n      <th>Munich</th>\n      <th>Münster</th>\n      <th>Osnabrueck</th>\n      <th>Siegen</th>\n      <th>Stuttgart</th>\n    </tr>\n  </thead>\n  <tbody>\n    <tr>\n      <th>Berlin</th>\n      <td>0.0000</td>\n      <td>335.8487</td>\n      <td>314.8566</td>\n      <td>165.0368</td>\n      <td>476.9274</td>\n      <td>423.1692</td>\n      <td>261.7780</td>\n      <td>254.5455</td>\n      <td>248.6129</td>\n      <td>525.0843</td>\n      <td>299.4648</td>\n      <td>504.0817</td>\n      <td>397.9020</td>\n      <td>364.2186</td>\n      <td>413.0609</td>\n      <td>511.1601</td>\n    </tr>\n    <tr>\n      <th>Bielefeld</th>\n      <td>335.8487</td>\n      <td>0.0000</td>\n      <td>118.9762</td>\n      <td>375.8700</td>\n      <td>151.2603</td>\n      <td>212.4733</td>\n      <td>113.4624</td>\n      <td>196.8640</td>\n      <td>91.2963</td>\n      <td>335.0665</td>\n      <td>102.5557</td>\n      <td>483.1370</td>\n      <td>62.3418</td>\n      <td>43.5460</td>\n      <td>132.0060</td>\n      <td>363.2648</td>\n    </tr>\n    <tr>\n      <th>Bremen</th>\n      <td>314.8566</td>\n      <td>118.9762</td>\n      <td>0.0000</td>\n      <td>405.3340</td>\n      <td>250.6272</td>\n      <td>329.8259</td>\n      <td>191.6699</td>\n      <td>95.2370</td>\n      <td>100.0783</td>\n      <td>453.3248</td>\n      <td>201.2363</td>\n      <td>582.7572</td>\n      <td>147.3759</td>\n      <td>102.9542</td>\n      <td>250.5474</td>\n      <td>478.5587</td>\n    </tr>\n    <tr>\n      <th>Dresden</th>\n      <td>165.0368</td>\n      <td>375.8700</td>\n      <td>405.3340</td>\n      <td>0.0000</td>\n      <td>484.7826</td>\n      <td>371.8607</td>\n      <td>268.1632</td>\n      <td>376.6347</td>\n      <td>312.4249</td>\n      <td>443.4585</td>\n      <td>297.3691</td>\n      <td>359.3530</td>\n      <td>434.9571</td>\n      <td>415.4325</td>\n      <td>400.6443</td>\n      <td>412.5242</td>\n    </tr>\n    <tr>\n      <th>Duesseldorf</th>\n      <td>476.9274</td>\n      <td>151.2603</td>\n      <td>250.6272</td>\n      <td>484.7826</td>\n      <td>0.0000</td>\n      <td>179.3050</td>\n      <td>221.9457</td>\n      <td>340.8797</td>\n      <td>241.5640</td>\n      <td>268.6039</td>\n      <td>188.3294</td>\n      <td>483.2822</td>\n      <td>103.2794</td>\n      <td>148.0627</td>\n      <td>92.8500</td>\n      <td>317.8697</td>\n    </tr>\n    <tr>\n      <th>Frankfurt</th>\n      <td>423.1692</td>\n      <td>212.4733</td>\n      <td>329.8259</td>\n      <td>371.8607</td>\n      <td>179.3050</td>\n      <td>0.0000</td>\n      <td>178.3879</td>\n      <td>393.0447</td>\n      <td>262.2419</td>\n      <td>124.3690</td>\n      <td>145.6095</td>\n      <td>304.0686</td>\n      <td>218.7715</td>\n      <td>244.5315</td>\n      <td>96.9473</td>\n      <td>152.4439</td>\n    </tr>\n    <tr>\n      <th>Goettingen</th>\n      <td>261.7780</td>\n      <td>113.4624</td>\n      <td>191.6699</td>\n      <td>268.1632</td>\n      <td>221.9457</td>\n      <td>178.3879</td>\n      <td>0.0000</td>\n      <td>227.9766</td>\n      <td>98.2827</td>\n      <td>298.2673</td>\n      <td>37.8524</td>\n      <td>391.6918</td>\n      <td>168.1866</td>\n      <td>156.4636</td>\n      <td>151.2849</td>\n      <td>307.5973</td>\n    </tr>\n    <tr>\n      <th>Hamburg</th>\n      <td>254.5455</td>\n      <td>196.8640</td>\n      <td>95.2370</td>\n      <td>376.6347</td>\n      <td>340.8797</td>\n      <td>393.0447</td>\n      <td>227.9766</td>\n      <td>0.0000</td>\n      <td>131.9231</td>\n      <td>517.2468</td>\n      <td>250.8839</td>\n      <td>611.9540</td>\n      <td>238.1501</td>\n      <td>193.2511</td>\n      <td>326.5553</td>\n      <td>533.6776</td>\n    </tr>\n    <tr>\n      <th>Hannover</th>\n      <td>248.6129</td>\n      <td>91.2963</td>\n      <td>100.0783</td>\n      <td>312.4249</td>\n      <td>241.5640</td>\n      <td>262.2419</td>\n      <td>98.2827</td>\n      <td>131.9231</td>\n      <td>0.0000</td>\n      <td>386.0734</td>\n      <td>118.9658</td>\n      <td>488.8929</td>\n      <td>151.2305</td>\n      <td>115.6064</td>\n      <td>204.5120</td>\n      <td>401.7978</td>\n    </tr>\n    <tr>\n      <th>Karlsruhe</th>\n      <td>525.0843</td>\n      <td>335.0665</td>\n      <td>453.3248</td>\n      <td>443.4585</td>\n      <td>268.6039</td>\n      <td>124.3690</td>\n      <td>298.2673</td>\n      <td>517.2468</td>\n      <td>386.0734</td>\n      <td>0.0000</td>\n      <td>268.1601</td>\n      <td>252.5986</td>\n      <td>333.2275</td>\n      <td>364.0858</td>\n      <td>209.5027</td>\n      <td>62.1970</td>\n    </tr>\n    <tr>\n      <th>Kassel</th>\n      <td>299.4648</td>\n      <td>102.5557</td>\n      <td>201.2363</td>\n      <td>297.3691</td>\n      <td>188.3294</td>\n      <td>145.6095</td>\n      <td>37.8524</td>\n      <td>250.8839</td>\n      <td>118.9658</td>\n      <td>268.1601</td>\n      <td>0.0000</td>\n      <td>383.7837</td>\n      <td>147.5756</td>\n      <td>145.7515</td>\n      <td>113.7185</td>\n      <td>282.9824</td>\n    </tr>\n    <tr>\n      <th>Munich</th>\n      <td>504.0817</td>\n      <td>483.1370</td>\n      <td>582.7572</td>\n      <td>359.3530</td>\n      <td>483.2822</td>\n      <td>304.0686</td>\n      <td>391.6918</td>\n      <td>611.9540</td>\n      <td>488.8929</td>\n      <td>252.5986</td>\n      <td>383.7837</td>\n      <td>0.0000</td>\n      <td>510.2079</td>\n      <td>523.9108</td>\n      <td>398.0092</td>\n      <td>190.4797</td>\n    </tr>\n    <tr>\n      <th>Münster</th>\n      <td>397.9020</td>\n      <td>62.3418</td>\n      <td>147.3759</td>\n      <td>434.9571</td>\n      <td>103.2794</td>\n      <td>218.7715</td>\n      <td>168.1866</td>\n      <td>238.1501</td>\n      <td>151.2305</td>\n      <td>333.2275</td>\n      <td>147.5756</td>\n      <td>510.2079</td>\n      <td>0.0000</td>\n      <td>44.9227</td>\n      <td>124.0297</td>\n      <td>370.8039</td>\n    </tr>\n    <tr>\n      <th>Osnabrueck</th>\n      <td>364.2186</td>\n      <td>43.5460</td>\n      <td>102.9542</td>\n      <td>415.4325</td>\n      <td>148.0627</td>\n      <td>244.5315</td>\n      <td>156.4636</td>\n      <td>193.2511</td>\n      <td>115.6064</td>\n      <td>364.0858</td>\n      <td>145.7515</td>\n      <td>523.9108</td>\n      <td>44.9227</td>\n      <td>0.0000</td>\n      <td>155.4947</td>\n      <td>396.7855</td>\n    </tr>\n    <tr>\n      <th>Siegen</th>\n      <td>413.0609</td>\n      <td>132.0060</td>\n      <td>250.5474</td>\n      <td>400.6443</td>\n      <td>92.8500</td>\n      <td>96.9473</td>\n      <td>151.2849</td>\n      <td>326.5553</td>\n      <td>204.5120</td>\n      <td>209.5027</td>\n      <td>113.7185</td>\n      <td>398.0092</td>\n      <td>124.0297</td>\n      <td>155.4947</td>\n      <td>0.0000</td>\n      <td>247.4553</td>\n    </tr>\n    <tr>\n      <th>Stuttgart</th>\n      <td>511.1601</td>\n      <td>363.2648</td>\n      <td>478.5587</td>\n      <td>412.5242</td>\n      <td>317.8697</td>\n      <td>152.4439</td>\n      <td>307.5973</td>\n      <td>533.6776</td>\n      <td>401.7978</td>\n      <td>62.1970</td>\n      <td>282.9824</td>\n      <td>190.4797</td>\n      <td>370.8039</td>\n      <td>396.7855</td>\n      <td>247.4553</td>\n      <td>0.0000</td>\n    </tr>\n  </tbody>\n</table>\n</div>"
     },
     "execution_count": 35,
     "metadata": {},
     "output_type": "execute_result"
    }
   ],
   "source": [
    "# create distance matrix with two different formats: np.Array and pd.DataFrame\n",
    "dist_matrix_np = compute_dist_matrix(coords,cities,verbose=False, format='NumpyArray')\n",
    "dist_matrix_df = compute_dist_matrix(coords,cities,verbose=False, format='DataFrame')\n",
    "\n",
    "# create dictionary to convert from index to city and vice versa:\n",
    "index_to_city = {}\n",
    "city_to_index = {}\n",
    "for i,city in zip(range(0,len(cities)),cities):\n",
    "    index_to_city[i] = city\n",
    "    city_to_index[city] = i\n",
    "    \n",
    "\n",
    "# print dist matrix:\n",
    "dist_matrix_df"
   ]
  },
  {
   "cell_type": "markdown",
   "id": "5cbe3063",
   "metadata": {},
   "source": [
    "### Add helper functions:"
   ]
  },
  {
   "cell_type": "code",
   "execution_count": 36,
   "id": "1cbdde45",
   "metadata": {},
   "outputs": [],
   "source": [
    "def get_length_of_route(dist_matrix:np.array, route: list) -> int:\n",
    "    length = 0\n",
    "    \n",
    "    # iterate over cities in route (start with 1 because index for origin is i-1):\n",
    "    for i in range(1,len(route)):\n",
    "        origin = route[i-1]\n",
    "        dest = route[i]\n",
    "\n",
    "        length += dist_matrix[origin][dest]\n",
    "        \n",
    "    # add last trip from starting_point to last destination:\n",
    "    length += dist_matrix[route[0]][route[len(route)-1]]\n",
    "    \n",
    "    return length\n",
    "        "
   ]
  },
  {
   "cell_type": "code",
   "execution_count": 37,
   "id": "3c2b6a4f",
   "metadata": {},
   "outputs": [],
   "source": [
    "def swap_position_of_two_elements_in_list(list, pos1, pos2):\n",
    "    \n",
    "    copy = list.copy()\n",
    "    \n",
    "    copy[pos1], copy[pos2] = copy[pos2], copy[pos1]\n",
    "    \n",
    "    return copy"
   ]
  },
  {
   "cell_type": "code",
   "execution_count": 38,
   "outputs": [],
   "source": [
    "def adjust_start_idx_to_front(route, start_idx):\n",
    "\n",
    "    # find index of start city:\n",
    "    idx = route.index(start_idx)\n",
    "\n",
    "    # get all elements from desired index until the end of the list\n",
    "    first_part = route[idx:len(route)]\n",
    "    # get all elements from the beginning of the list until one element before the desired index\n",
    "    second_part = route[0:idx]\n",
    "\n",
    "    # glue both parts together\n",
    "    result = first_part+second_part\n",
    "\n",
    "    return result"
   ],
   "metadata": {
    "collapsed": false,
    "pycharm": {
     "name": "#%%\n"
    }
   }
  },
  {
   "cell_type": "code",
   "execution_count": 39,
   "id": "d11f5577",
   "metadata": {},
   "outputs": [],
   "source": [
    "def map_city_names_to_route(route_indices:list, names_dict:dict, type='list_with_names') -> list:\n",
    "    \n",
    "    route_with_names = []\n",
    "    \n",
    "    if type == 'list_with_names':\n",
    "        for idx in route_indices:\n",
    "            route_with_names.append(names_dict[idx])\n",
    "\n",
    "        return route_with_names\n",
    "    \n",
    "    elif type == 'list_with_names_and_idx':\n",
    "        for idx in route_indices:\n",
    "            route_with_names.append({\n",
    "                'name': names_dict[idx],\n",
    "                'idx': idx\n",
    "            })\n",
    "\n",
    "        return route_with_names\n",
    "    \n",
    "    else:\n",
    "        raise ValueError('unknown return type passed')\n",
    "    \n",
    "        \n",
    "    "
   ]
  },
  {
   "cell_type": "markdown",
   "id": "f3d9f529",
   "metadata": {},
   "source": [
    "## 3) Traveling Salesman Algorithms:"
   ]
  },
  {
   "cell_type": "markdown",
   "id": "11a70419",
   "metadata": {},
   "source": [
    "### Randomized Approach:\n",
    "Idea: Create random routes and choose the best route out of a predefined number of attempts."
   ]
  },
  {
   "cell_type": "code",
   "execution_count": 40,
   "id": "7604b2dc",
   "metadata": {},
   "outputs": [],
   "source": [
    "def random_algorithm(dist_matrix:np.array, start_idx=-1, n_iter=100, verbose=True) -> list:\n",
    "    \n",
    "    # initialize best route and length\n",
    "    best_route = []\n",
    "    best_length = float('inf')\n",
    "    \n",
    "    # get number of cities:\n",
    "    n_cities = len(cities)\n",
    "    \n",
    "    # set random starting point if nothing was passed:\n",
    "    if start_idx == -1:\n",
    "        start_idx = random.randint(0,n_cities-1)\n",
    "        \n",
    "    for i in range(0,n_iter):\n",
    "        \n",
    "        # random route\n",
    "        route = list(np.random.permutation(n_cities))\n",
    "        \n",
    "        # get index of starting point city:\n",
    "        idx = route.index(start_idx)\n",
    "        \n",
    "        # swap starting point city to beginning:\n",
    "        route = swap_position_of_two_elements_in_list(route, 0, idx)\n",
    "        \n",
    "        # compute distance:\n",
    "        dist = get_length_of_route(dist_matrix, route)\n",
    "        \n",
    "        # keep if better than previous attempts:\n",
    "        if dist < best_length:\n",
    "            best_route = route\n",
    "            best_length = dist\n",
    "            \n",
    "            if verbose:\n",
    "                print('New best_length: ' + str(dist))\n",
    "            \n",
    "    return best_route"
   ]
  },
  {
   "cell_type": "markdown",
   "id": "6fafb2c6",
   "metadata": {},
   "source": [
    "### Greedy approach\n",
    "Idea: Always proceed to the closest next city"
   ]
  },
  {
   "cell_type": "code",
   "execution_count": 41,
   "id": "8189765e",
   "metadata": {},
   "outputs": [],
   "source": [
    "def greedy_algorithm(dist_matrix:np.array, start_idx=-1) -> list:\n",
    "    \n",
    "    # initialize route\n",
    "    route = []\n",
    "    # get number of cities:\n",
    "    n_cities = len(cities)\n",
    "    # initialize remaining cities:\n",
    "    cities_remaining = list(range(0,n_cities))\n",
    "    \n",
    "    \n",
    "    # set random starting point if nothing was passed:\n",
    "    if start_idx == -1:\n",
    "        start_idx = random.randint(0,n_cities-1)\n",
    "    \n",
    "    # add starting point to route:\n",
    "    route.append(start_idx)\n",
    "    # remove starting point from remaining cities:\n",
    "    cities_remaining.remove(start_idx)\n",
    "    \n",
    "\n",
    "    # add cities to route until every city is added:\n",
    "    while cities_remaining:\n",
    "        \n",
    "        # get city that was added last:\n",
    "        idx_added_prev = route[-1]\n",
    "\n",
    "        # initialize min_distance\n",
    "        idx_closest_city = cities_remaining[0]\n",
    "        min_dist = dist_matrix_np[idx_closest_city][idx_added_prev]\n",
    "                \n",
    "        # find closest city to cities in remaining cities:\n",
    "        for city_idx in cities_remaining:\n",
    "            dist = dist_matrix_np[city_idx][idx_added_prev]\n",
    "            \n",
    "            if dist <= min_dist:\n",
    "                min_dist = dist\n",
    "                idx_closest_city = city_idx\n",
    "    \n",
    "        # add city to route and remove it from remaining cities:\n",
    "        route.append(idx_closest_city)\n",
    "        cities_remaining.remove(idx_closest_city)\n",
    "    \n",
    "    return route\n",
    "    "
   ]
  },
  {
   "cell_type": "markdown",
   "id": "11c04ed6",
   "metadata": {},
   "source": [
    "### 2-opt swap: \n",
    "Idea: Start with random route. Then optimize intermediate result by exchanging order of two cities if the overall result is improved."
   ]
  },
  {
   "cell_type": "code",
   "execution_count": 42,
   "id": "a6fc016c",
   "metadata": {},
   "outputs": [],
   "source": [
    "def opt2_algorithm(dist_matrix:np.array, n_iter=1000, max_rounds=10**6, verbose=False, start_idx=-1) -> list:\n",
    "    \n",
    "    # Get number of cities:\n",
    "    n_cities = len(cities)\n",
    "    \n",
    "    # initialize best attempts:\n",
    "    best_route = list(np.random.permutation(n_cities))\n",
    "\n",
    "    # initialize best length:\n",
    "    best_length = get_length_of_route(dist_matrix, best_route)\n",
    "\n",
    "    \n",
    "    # n_iter attempts:\n",
    "    for t in range(0,n_iter):\n",
    "    \n",
    "        # initialize route with random permutation:\n",
    "        route = list(np.random.permutation(n_cities))\n",
    "\n",
    "        # swap start_idx city with other city:\n",
    "        if start_idx != -1:\n",
    "            # get position of start city in list:\n",
    "            pos_start_city = best_route.index(start_idx)\n",
    "\n",
    "        # initialize route_length:\n",
    "        route_length = get_length_of_route(dist_matrix, route)\n",
    "\n",
    "        # variable that keeps track if swapping order of two cities led to an improvement:\n",
    "        improvement = True\n",
    "        # variable that counts number of rounds:\n",
    "        swap_round = 0\n",
    "\n",
    "        while improvement and swap_round < max_rounds:\n",
    "            # at each round start by setting\n",
    "            improvement = False\n",
    "\n",
    "            # iterate over cities:\n",
    "            for i in range(0,n_cities):\n",
    "                for j in range(i,n_cities):\n",
    "\n",
    "                    # swap two elements:\n",
    "                    potential_new_route = swap_position_of_two_elements_in_list(route,i,j)\n",
    "\n",
    "                    # compute new distance:\n",
    "                    potential_new_distance = get_length_of_route(dist_matrix, potential_new_route)\n",
    "\n",
    "                    # check if improvement:\n",
    "                    if potential_new_distance < route_length:\n",
    "\n",
    "                        # print('Improvement by ' + str(route_length - potential_new_distance))\n",
    "                        # print('New distance: ' + str(potential_new_distance))\n",
    "\n",
    "                        # set boolean flag to true:\n",
    "                        improvement = True\n",
    "\n",
    "                        # update route and route_length:\n",
    "                        route = potential_new_route\n",
    "                        route_length = potential_new_distance\n",
    "\n",
    "            # count number of rounds:\n",
    "            swap_round += 1\n",
    "                    \n",
    "        if route_length < best_length:\n",
    "            best_route = route\n",
    "            best_length = route_length\n",
    "        \n",
    "        # Print progress if verbose is set to true\n",
    "        if verbose:\n",
    "            perc_completed = (t+1)/n_iter*100\n",
    "            \n",
    "            if perc_completed % 10 == 0:\n",
    "                print(str(perc_completed)+'% completed.')\n",
    "\n",
    "    # swap start index to front:\n",
    "    best_route = adjust_start_idx_to_front(best_route, start_idx)\n",
    "\n",
    "    return best_route\n"
   ]
  },
  {
   "cell_type": "code",
   "execution_count": 43,
   "outputs": [],
   "source": [
    "def opt2_swap(dist_matrix:np.array, n_iter=1000, max_rounds=10**6) -> list:\n",
    "\n",
    "    # Get number of cities:\n",
    "    n_cities = len(cities)\n",
    "\n",
    "    # initialize best attempts:\n",
    "    best_route = list(np.random.permutation(n_cities))\n",
    "\n",
    "    # initialize best length:\n",
    "    best_length = get_length_of_route(dist_matrix, best_route)\n",
    "\n",
    "\n",
    "    # n_iter attempts:\n",
    "    for t in range(0,n_iter):\n",
    "\n",
    "        # initialize route with random permutation:\n",
    "        route = list(np.random.permutation(n_cities))\n",
    "\n",
    "        # swap start_idx city with other city:\n",
    "        if start_idx != -1:\n",
    "            # get position of start city in list:\n",
    "            pos_start_city = best_route.index(start_idx)\n",
    "\n",
    "        # initialize route_length:\n",
    "        route_length = get_length_of_route(dist_matrix, route)\n",
    "\n",
    "        # variable that keeps track if swapping order of two cities led to an improvement:\n",
    "        improvement = True\n",
    "        # variable that counts number of rounds:\n",
    "        swap_round = 0\n",
    "\n",
    "        while improvement and swap_round < max_rounds:\n",
    "            # at each round start by setting\n",
    "            improvement = False\n",
    "\n",
    "            # iterate over cities:\n",
    "            for i in range(0,n_cities):\n",
    "                for j in range(i,n_cities):\n",
    "\n",
    "                    # swap two elements:\n",
    "                    potential_new_route = swap_position_of_two_elements_in_list(route,i,j)\n",
    "\n",
    "                    # compute new distance:\n",
    "                    potential_new_distance = get_length_of_route(dist_matrix, potential_new_route)\n",
    "\n",
    "                    # check if improvement:\n",
    "                    if potential_new_distance < route_length:\n",
    "\n",
    "                        # print('Improvement by ' + str(route_length - potential_new_distance))\n",
    "                        # print('New distance: ' + str(potential_new_distance))\n",
    "\n",
    "                        # set boolean flag to true:\n",
    "                        improvement = True\n",
    "\n",
    "                        # update route and route_length:\n",
    "                        route = potential_new_route\n",
    "                        route_length = potential_new_distance\n",
    "\n",
    "            # count number of rounds:\n",
    "            swap_round += 1\n",
    "\n",
    "        if route_length < best_length:\n",
    "            best_route = route\n",
    "            best_length = route_length\n",
    "\n",
    "        # Print progress if verbose is set to true\n",
    "        if verbose:\n",
    "            perc_completed = (t+1)/n_iter*100\n",
    "\n",
    "            if perc_completed % 10 == 0:\n",
    "                print(str(perc_completed)+'% completed.')\n",
    "\n",
    "    # swap start index to front:\n",
    "    best_route = adjust_start_idx_to_front(best_route, start_idx)\n",
    "\n",
    "    return best_route\n"
   ],
   "metadata": {
    "collapsed": false,
    "pycharm": {
     "name": "#%%\n"
    }
   }
  },
  {
   "cell_type": "code",
   "execution_count": 44,
   "outputs": [],
   "source": [
    "# Set starting city:\n",
    "starting_city = 'Münster'\n",
    "# Get index of starting city:\n",
    "start_city_idx = dist_matrix_df.columns.get_loc(starting_city)"
   ],
   "metadata": {
    "collapsed": false,
    "pycharm": {
     "name": "#%%\n"
    }
   }
  },
  {
   "cell_type": "code",
   "execution_count": 45,
   "id": "e2c64416",
   "metadata": {},
   "outputs": [
    {
     "name": "stdout",
     "output_type": "stream",
     "text": [
      "New best_length: 4647.835999999999\n"
     ]
    },
    {
     "data": {
      "text/plain": "4647.835999999999"
     },
     "execution_count": 45,
     "metadata": {},
     "output_type": "execute_result"
    }
   ],
   "source": [
    "random_route = random_algorithm(dist_matrix_np, n_iter=1, verbose=True, start_idx=start_city_idx)\n",
    "\n",
    "get_length_of_route(dist_matrix_np, random_route)"
   ]
  },
  {
   "cell_type": "code",
   "execution_count": 46,
   "id": "1d08b850",
   "metadata": {},
   "outputs": [
    {
     "data": {
      "text/plain": "2100.3675000000003"
     },
     "execution_count": 46,
     "metadata": {},
     "output_type": "execute_result"
    }
   ],
   "source": [
    "greedy_route = greedy_algorithm(dist_matrix_np, start_idx=start_city_idx)\n",
    "\n",
    "get_length_of_route(dist_matrix_np, greedy_route)"
   ]
  },
  {
   "cell_type": "code",
   "execution_count": 47,
   "id": "ed072831",
   "metadata": {},
   "outputs": [
    {
     "data": {
      "text/plain": "1971.5324999999998"
     },
     "execution_count": 47,
     "metadata": {},
     "output_type": "execute_result"
    }
   ],
   "source": [
    "opt2_route = opt2_algorithm(dist_matrix_np, verbose=False, start_idx=start_city_idx)\n",
    "\n",
    "get_length_of_route(dist_matrix_np, opt2_route)"
   ]
  },
  {
   "cell_type": "code",
   "execution_count": 62,
   "id": "d0e70247",
   "metadata": {},
   "outputs": [],
   "source": [
    "route = greedy_route"
   ]
  },
  {
   "cell_type": "markdown",
   "id": "fc2aad0f",
   "metadata": {},
   "source": [
    "## 4) Visualization"
   ]
  },
  {
   "cell_type": "code",
   "execution_count": 63,
   "id": "5e2c1132",
   "metadata": {},
   "outputs": [
    {
     "data": {
      "text/plain": "           city        lon        lat\n0       Münster  51.962510   7.625188\n1    Osnabrueck  52.273304   8.045544\n2     Bielefeld  52.019101   8.531007\n3      Hannover  52.374478   9.738553\n4    Goettingen  51.500327   9.950655\n5        Kassel  51.315455   9.492410\n6        Siegen  50.874980   8.022723\n7   Duesseldorf  51.190773   6.793517\n8     Frankfurt  50.110644   8.682092\n9     Karlsruhe  49.006870   8.403420\n10    Stuttgart  48.778449   9.180013\n11       Munich  48.137108  11.575382\n12      Dresden  51.049329  13.738144\n13       Berlin  52.518693  13.399602\n14      Hamburg  53.550341  10.000654\n15       Bremen  53.075820   8.807165",
      "text/html": "<div>\n<style scoped>\n    .dataframe tbody tr th:only-of-type {\n        vertical-align: middle;\n    }\n\n    .dataframe tbody tr th {\n        vertical-align: top;\n    }\n\n    .dataframe thead th {\n        text-align: right;\n    }\n</style>\n<table border=\"1\" class=\"dataframe\">\n  <thead>\n    <tr style=\"text-align: right;\">\n      <th></th>\n      <th>city</th>\n      <th>lon</th>\n      <th>lat</th>\n    </tr>\n  </thead>\n  <tbody>\n    <tr>\n      <th>0</th>\n      <td>Münster</td>\n      <td>51.962510</td>\n      <td>7.625188</td>\n    </tr>\n    <tr>\n      <th>1</th>\n      <td>Osnabrueck</td>\n      <td>52.273304</td>\n      <td>8.045544</td>\n    </tr>\n    <tr>\n      <th>2</th>\n      <td>Bielefeld</td>\n      <td>52.019101</td>\n      <td>8.531007</td>\n    </tr>\n    <tr>\n      <th>3</th>\n      <td>Hannover</td>\n      <td>52.374478</td>\n      <td>9.738553</td>\n    </tr>\n    <tr>\n      <th>4</th>\n      <td>Goettingen</td>\n      <td>51.500327</td>\n      <td>9.950655</td>\n    </tr>\n    <tr>\n      <th>5</th>\n      <td>Kassel</td>\n      <td>51.315455</td>\n      <td>9.492410</td>\n    </tr>\n    <tr>\n      <th>6</th>\n      <td>Siegen</td>\n      <td>50.874980</td>\n      <td>8.022723</td>\n    </tr>\n    <tr>\n      <th>7</th>\n      <td>Duesseldorf</td>\n      <td>51.190773</td>\n      <td>6.793517</td>\n    </tr>\n    <tr>\n      <th>8</th>\n      <td>Frankfurt</td>\n      <td>50.110644</td>\n      <td>8.682092</td>\n    </tr>\n    <tr>\n      <th>9</th>\n      <td>Karlsruhe</td>\n      <td>49.006870</td>\n      <td>8.403420</td>\n    </tr>\n    <tr>\n      <th>10</th>\n      <td>Stuttgart</td>\n      <td>48.778449</td>\n      <td>9.180013</td>\n    </tr>\n    <tr>\n      <th>11</th>\n      <td>Munich</td>\n      <td>48.137108</td>\n      <td>11.575382</td>\n    </tr>\n    <tr>\n      <th>12</th>\n      <td>Dresden</td>\n      <td>51.049329</td>\n      <td>13.738144</td>\n    </tr>\n    <tr>\n      <th>13</th>\n      <td>Berlin</td>\n      <td>52.518693</td>\n      <td>13.399602</td>\n    </tr>\n    <tr>\n      <th>14</th>\n      <td>Hamburg</td>\n      <td>53.550341</td>\n      <td>10.000654</td>\n    </tr>\n    <tr>\n      <th>15</th>\n      <td>Bremen</td>\n      <td>53.075820</td>\n      <td>8.807165</td>\n    </tr>\n  </tbody>\n</table>\n</div>"
     },
     "execution_count": 63,
     "metadata": {},
     "output_type": "execute_result"
    }
   ],
   "source": [
    "# Create DataFrame in desired format:\n",
    "# city, lat, lon\n",
    "route_dict_inside_list = []\n",
    "\n",
    "for idx in route:\n",
    "    route_dict_inside_list.append({\n",
    "        'city':city_and_coords[idx]['city'],\n",
    "        'lon':city_and_coords[idx]['coord'][0],\n",
    "        'lat':city_and_coords[idx]['coord'][1],\n",
    "    })\n",
    "    \n",
    "path_df = pd.DataFrame(route_dict_inside_list)\n",
    "\n",
    "path_df"
   ]
  },
  {
   "cell_type": "markdown",
   "source": [],
   "metadata": {
    "collapsed": false
   }
  },
  {
   "cell_type": "code",
   "execution_count": 64,
   "outputs": [],
   "source": [
    "# Compute center point:\n",
    "center_point_coords = path_df.iloc[:,1:3].mean().tolist()\n",
    "\n",
    "# Start city:\n",
    "start_point = route_dict_inside_list[0]\n",
    "\n",
    "# Get routes coordinates as a list\n",
    "route_list = []\n",
    "for city in route_dict_inside_list:\n",
    "    route_list.append((city['lon'], city['lat']))\n",
    "\n",
    "# Add last route from end_point to starting point:\n",
    "route_list.append((start_point['lon'], start_point['lat']))"
   ],
   "metadata": {
    "collapsed": false,
    "pycharm": {
     "name": "#%%\n"
    }
   }
  },
  {
   "cell_type": "markdown",
   "source": [
    "### Helper functions for plotting:"
   ],
   "metadata": {
    "collapsed": false,
    "pycharm": {
     "name": "#%% md\n"
    }
   }
  },
  {
   "cell_type": "code",
   "execution_count": 65,
   "outputs": [],
   "source": [
    "# Function for creating icons with numbers:\n",
    "def create_custom_icon(color='blue', number=''):\n",
    "    icon = folium.DivIcon(\n",
    "        icon_size=(150,36),\n",
    "        icon_anchor=(14,40),\n",
    "        #             html='<div style=\"font-size: 18pt; align:center, color : black\">' + '{:02d}'.format(num+1) + '</div>',\n",
    "        html=\"\"\"<span class=\"fa-stack \" style=\"font-size: 12pt\" >>\n",
    "                    <!-- The icon that will wrap the number -->\n",
    "                    <span class=\"fa fa-circle-o fa-stack-2x\" style=\"color : {:s}\"></span>\n",
    "                    <!-- a strong element with the custom content, in this case a number -->\n",
    "                    <strong class=\"fa-stack-1x\">\n",
    "                         {:02d}\n",
    "                    </strong>\n",
    "                </span>\"\"\".format(color,number)\n",
    "    )\n",
    "\n",
    "    return icon\n"
   ],
   "metadata": {
    "collapsed": false,
    "pycharm": {
     "name": "#%%\n"
    }
   }
  },
  {
   "cell_type": "code",
   "execution_count": 66,
   "outputs": [
    {
     "data": {
      "text/plain": "<folium.folium.Map at 0x1284b0ca0>",
      "text/html": "<div style=\"width:100%;\"><div style=\"position:relative;width:100%;height:0;padding-bottom:60%;\"><span style=\"color:#565656\">Make this Notebook Trusted to load map: File -> Trust Notebook</span><iframe src=\"about:blank\" style=\"position:absolute;width:100%;height:100%;left:0;top:0;border:none !important;\" data-html=%3C%21DOCTYPE%20html%3E%0A%3Chead%3E%20%20%20%20%0A%20%20%20%20%3Cmeta%20http-equiv%3D%22content-type%22%20content%3D%22text/html%3B%20charset%3DUTF-8%22%20/%3E%0A%20%20%20%20%0A%20%20%20%20%20%20%20%20%3Cscript%3E%0A%20%20%20%20%20%20%20%20%20%20%20%20L_NO_TOUCH%20%3D%20false%3B%0A%20%20%20%20%20%20%20%20%20%20%20%20L_DISABLE_3D%20%3D%20false%3B%0A%20%20%20%20%20%20%20%20%3C/script%3E%0A%20%20%20%20%0A%20%20%20%20%3Cstyle%3Ehtml%2C%20body%20%7Bwidth%3A%20100%25%3Bheight%3A%20100%25%3Bmargin%3A%200%3Bpadding%3A%200%3B%7D%3C/style%3E%0A%20%20%20%20%3Cstyle%3E%23map%20%7Bposition%3Aabsolute%3Btop%3A0%3Bbottom%3A0%3Bright%3A0%3Bleft%3A0%3B%7D%3C/style%3E%0A%20%20%20%20%3Cscript%20src%3D%22https%3A//cdn.jsdelivr.net/npm/leaflet%401.6.0/dist/leaflet.js%22%3E%3C/script%3E%0A%20%20%20%20%3Cscript%20src%3D%22https%3A//code.jquery.com/jquery-1.12.4.min.js%22%3E%3C/script%3E%0A%20%20%20%20%3Cscript%20src%3D%22https%3A//maxcdn.bootstrapcdn.com/bootstrap/3.2.0/js/bootstrap.min.js%22%3E%3C/script%3E%0A%20%20%20%20%3Cscript%20src%3D%22https%3A//cdnjs.cloudflare.com/ajax/libs/Leaflet.awesome-markers/2.0.2/leaflet.awesome-markers.js%22%3E%3C/script%3E%0A%20%20%20%20%3Clink%20rel%3D%22stylesheet%22%20href%3D%22https%3A//cdn.jsdelivr.net/npm/leaflet%401.6.0/dist/leaflet.css%22/%3E%0A%20%20%20%20%3Clink%20rel%3D%22stylesheet%22%20href%3D%22https%3A//maxcdn.bootstrapcdn.com/bootstrap/3.2.0/css/bootstrap.min.css%22/%3E%0A%20%20%20%20%3Clink%20rel%3D%22stylesheet%22%20href%3D%22https%3A//maxcdn.bootstrapcdn.com/bootstrap/3.2.0/css/bootstrap-theme.min.css%22/%3E%0A%20%20%20%20%3Clink%20rel%3D%22stylesheet%22%20href%3D%22https%3A//maxcdn.bootstrapcdn.com/font-awesome/4.6.3/css/font-awesome.min.css%22/%3E%0A%20%20%20%20%3Clink%20rel%3D%22stylesheet%22%20href%3D%22https%3A//cdnjs.cloudflare.com/ajax/libs/Leaflet.awesome-markers/2.0.2/leaflet.awesome-markers.css%22/%3E%0A%20%20%20%20%3Clink%20rel%3D%22stylesheet%22%20href%3D%22https%3A//cdn.jsdelivr.net/gh/python-visualization/folium/folium/templates/leaflet.awesome.rotate.min.css%22/%3E%0A%20%20%20%20%0A%20%20%20%20%20%20%20%20%20%20%20%20%3Cmeta%20name%3D%22viewport%22%20content%3D%22width%3Ddevice-width%2C%0A%20%20%20%20%20%20%20%20%20%20%20%20%20%20%20%20initial-scale%3D1.0%2C%20maximum-scale%3D1.0%2C%20user-scalable%3Dno%22%20/%3E%0A%20%20%20%20%20%20%20%20%20%20%20%20%3Cstyle%3E%0A%20%20%20%20%20%20%20%20%20%20%20%20%20%20%20%20%23map_87ed09ecc9134e3694cef3d51028f7b7%20%7B%0A%20%20%20%20%20%20%20%20%20%20%20%20%20%20%20%20%20%20%20%20position%3A%20relative%3B%0A%20%20%20%20%20%20%20%20%20%20%20%20%20%20%20%20%20%20%20%20width%3A%20100.0%25%3B%0A%20%20%20%20%20%20%20%20%20%20%20%20%20%20%20%20%20%20%20%20height%3A%20100.0%25%3B%0A%20%20%20%20%20%20%20%20%20%20%20%20%20%20%20%20%20%20%20%20left%3A%200.0%25%3B%0A%20%20%20%20%20%20%20%20%20%20%20%20%20%20%20%20%20%20%20%20top%3A%200.0%25%3B%0A%20%20%20%20%20%20%20%20%20%20%20%20%20%20%20%20%7D%0A%20%20%20%20%20%20%20%20%20%20%20%20%3C/style%3E%0A%20%20%20%20%20%20%20%20%0A%3C/head%3E%0A%3Cbody%3E%20%20%20%20%0A%20%20%20%20%0A%20%20%20%20%20%20%20%20%20%20%20%20%3Cdiv%20class%3D%22folium-map%22%20id%3D%22map_87ed09ecc9134e3694cef3d51028f7b7%22%20%3E%3C/div%3E%0A%20%20%20%20%20%20%20%20%0A%3C/body%3E%0A%3Cscript%3E%20%20%20%20%0A%20%20%20%20%0A%20%20%20%20%20%20%20%20%20%20%20%20var%20map_87ed09ecc9134e3694cef3d51028f7b7%20%3D%20L.map%28%0A%20%20%20%20%20%20%20%20%20%20%20%20%20%20%20%20%22map_87ed09ecc9134e3694cef3d51028f7b7%22%2C%0A%20%20%20%20%20%20%20%20%20%20%20%20%20%20%20%20%7B%0A%20%20%20%20%20%20%20%20%20%20%20%20%20%20%20%20%20%20%20%20center%3A%20%5B51.2336362875%2C%209.499129288000741%5D%2C%0A%20%20%20%20%20%20%20%20%20%20%20%20%20%20%20%20%20%20%20%20crs%3A%20L.CRS.EPSG3857%2C%0A%20%20%20%20%20%20%20%20%20%20%20%20%20%20%20%20%20%20%20%20zoom%3A%206%2C%0A%20%20%20%20%20%20%20%20%20%20%20%20%20%20%20%20%20%20%20%20zoomControl%3A%20true%2C%0A%20%20%20%20%20%20%20%20%20%20%20%20%20%20%20%20%20%20%20%20preferCanvas%3A%20false%2C%0A%20%20%20%20%20%20%20%20%20%20%20%20%20%20%20%20%7D%0A%20%20%20%20%20%20%20%20%20%20%20%20%29%3B%0A%0A%20%20%20%20%20%20%20%20%20%20%20%20%0A%0A%20%20%20%20%20%20%20%20%0A%20%20%20%20%0A%20%20%20%20%20%20%20%20%20%20%20%20var%20tile_layer_0348fb63b41d4ca988bfc5e2d54a713e%20%3D%20L.tileLayer%28%0A%20%20%20%20%20%20%20%20%20%20%20%20%20%20%20%20%22https%3A//%7Bs%7D.tile.openstreetmap.org/%7Bz%7D/%7Bx%7D/%7By%7D.png%22%2C%0A%20%20%20%20%20%20%20%20%20%20%20%20%20%20%20%20%7B%22attribution%22%3A%20%22Data%20by%20%5Cu0026copy%3B%20%5Cu003ca%20href%3D%5C%22http%3A//openstreetmap.org%5C%22%5Cu003eOpenStreetMap%5Cu003c/a%5Cu003e%2C%20under%20%5Cu003ca%20href%3D%5C%22http%3A//www.openstreetmap.org/copyright%5C%22%5Cu003eODbL%5Cu003c/a%5Cu003e.%22%2C%20%22detectRetina%22%3A%20false%2C%20%22maxNativeZoom%22%3A%2018%2C%20%22maxZoom%22%3A%2018%2C%20%22minZoom%22%3A%200%2C%20%22noWrap%22%3A%20false%2C%20%22opacity%22%3A%201%2C%20%22subdomains%22%3A%20%22abc%22%2C%20%22tms%22%3A%20false%7D%0A%20%20%20%20%20%20%20%20%20%20%20%20%29.addTo%28map_87ed09ecc9134e3694cef3d51028f7b7%29%3B%0A%20%20%20%20%20%20%20%20%0A%20%20%20%20%0A%20%20%20%20%20%20%20%20%20%20%20%20var%20marker_50f04cd9359343eda92fd472af02a73c%20%3D%20L.marker%28%0A%20%20%20%20%20%20%20%20%20%20%20%20%20%20%20%20%5B51.9625101%2C%207.6251879%5D%2C%0A%20%20%20%20%20%20%20%20%20%20%20%20%20%20%20%20%7B%7D%0A%20%20%20%20%20%20%20%20%20%20%20%20%29.addTo%28map_87ed09ecc9134e3694cef3d51028f7b7%29%3B%0A%20%20%20%20%20%20%20%20%0A%20%20%20%20%0A%20%20%20%20%20%20%20%20%20%20%20%20var%20icon_a8c4e2a5a17d4dbea6a1de5c41f5d74d%20%3D%20L.AwesomeMarkers.icon%28%0A%20%20%20%20%20%20%20%20%20%20%20%20%20%20%20%20%7B%22extraClasses%22%3A%20%22fa-rotate-0%22%2C%20%22icon%22%3A%20%22home%22%2C%20%22iconColor%22%3A%20%22white%22%2C%20%22markerColor%22%3A%20%22gray%22%2C%20%22prefix%22%3A%20%22glyphicon%22%7D%0A%20%20%20%20%20%20%20%20%20%20%20%20%29%3B%0A%20%20%20%20%20%20%20%20%20%20%20%20marker_50f04cd9359343eda92fd472af02a73c.setIcon%28icon_a8c4e2a5a17d4dbea6a1de5c41f5d74d%29%3B%0A%20%20%20%20%20%20%20%20%0A%20%20%20%20%0A%20%20%20%20%20%20%20%20var%20popup_9e2b94b4e01d45debc5b0dd787d92623%20%3D%20L.popup%28%7B%22maxWidth%22%3A%20%22100%25%22%7D%29%3B%0A%0A%20%20%20%20%20%20%20%20%0A%20%20%20%20%20%20%20%20%20%20%20%20var%20html_8076229dce2a4c2d970c297362445ab4%20%3D%20%24%28%60%3Cdiv%20id%3D%22html_8076229dce2a4c2d970c297362445ab4%22%20style%3D%22width%3A%20100.0%25%3B%20height%3A%20100.0%25%3B%22%3EM%C3%BCnster%3C/div%3E%60%29%5B0%5D%3B%0A%20%20%20%20%20%20%20%20%20%20%20%20popup_9e2b94b4e01d45debc5b0dd787d92623.setContent%28html_8076229dce2a4c2d970c297362445ab4%29%3B%0A%20%20%20%20%20%20%20%20%0A%0A%20%20%20%20%20%20%20%20marker_50f04cd9359343eda92fd472af02a73c.bindPopup%28popup_9e2b94b4e01d45debc5b0dd787d92623%29%0A%20%20%20%20%20%20%20%20%3B%0A%0A%20%20%20%20%20%20%20%20%0A%20%20%20%20%0A%20%20%20%20%0A%20%20%20%20%20%20%20%20%20%20%20%20marker_50f04cd9359343eda92fd472af02a73c.bindTooltip%28%0A%20%20%20%20%20%20%20%20%20%20%20%20%20%20%20%20%60%3Cdiv%3E%0A%20%20%20%20%20%20%20%20%20%20%20%20%20%20%20%20%20%20%20%20%20Click%20here%21%0A%20%20%20%20%20%20%20%20%20%20%20%20%20%20%20%20%20%3C/div%3E%60%2C%0A%20%20%20%20%20%20%20%20%20%20%20%20%20%20%20%20%7B%22sticky%22%3A%20true%7D%0A%20%20%20%20%20%20%20%20%20%20%20%20%29%3B%0A%20%20%20%20%20%20%20%20%0A%20%20%20%20%0A%20%20%20%20%20%20%20%20%20%20%20%20var%20marker_e3d4805e9e1e403fae3cff15ed4c5a4f%20%3D%20L.marker%28%0A%20%20%20%20%20%20%20%20%20%20%20%20%20%20%20%20%5B52.2733042%2C%208.0455442%5D%2C%0A%20%20%20%20%20%20%20%20%20%20%20%20%20%20%20%20%7B%7D%0A%20%20%20%20%20%20%20%20%20%20%20%20%29.addTo%28map_87ed09ecc9134e3694cef3d51028f7b7%29%3B%0A%20%20%20%20%20%20%20%20%0A%20%20%20%20%0A%20%20%20%20%20%20%20%20%20%20%20%20var%20icon_6fa5cdf74c4d4ed0835108828382e7cb%20%3D%20L.AwesomeMarkers.icon%28%0A%20%20%20%20%20%20%20%20%20%20%20%20%20%20%20%20%7B%22extraClasses%22%3A%20%22fa-rotate-0%22%2C%20%22icon%22%3A%20%22home%22%2C%20%22iconColor%22%3A%20%22white%22%2C%20%22markerColor%22%3A%20%22darkblue%22%2C%20%22prefix%22%3A%20%22glyphicon%22%7D%0A%20%20%20%20%20%20%20%20%20%20%20%20%29%3B%0A%20%20%20%20%20%20%20%20%20%20%20%20marker_e3d4805e9e1e403fae3cff15ed4c5a4f.setIcon%28icon_6fa5cdf74c4d4ed0835108828382e7cb%29%3B%0A%20%20%20%20%20%20%20%20%0A%20%20%20%20%0A%20%20%20%20%20%20%20%20var%20popup_febd9a74df364eb1866afd383daac48a%20%3D%20L.popup%28%7B%22maxWidth%22%3A%20%22100%25%22%7D%29%3B%0A%0A%20%20%20%20%20%20%20%20%0A%20%20%20%20%20%20%20%20%20%20%20%20var%20html_b655813a8e8f48d4aaf2391bcd383d8e%20%3D%20%24%28%60%3Cdiv%20id%3D%22html_b655813a8e8f48d4aaf2391bcd383d8e%22%20style%3D%22width%3A%20100.0%25%3B%20height%3A%20100.0%25%3B%22%3EOsnabrueck%3C/div%3E%60%29%5B0%5D%3B%0A%20%20%20%20%20%20%20%20%20%20%20%20popup_febd9a74df364eb1866afd383daac48a.setContent%28html_b655813a8e8f48d4aaf2391bcd383d8e%29%3B%0A%20%20%20%20%20%20%20%20%0A%0A%20%20%20%20%20%20%20%20marker_e3d4805e9e1e403fae3cff15ed4c5a4f.bindPopup%28popup_febd9a74df364eb1866afd383daac48a%29%0A%20%20%20%20%20%20%20%20%3B%0A%0A%20%20%20%20%20%20%20%20%0A%20%20%20%20%0A%20%20%20%20%0A%20%20%20%20%20%20%20%20%20%20%20%20marker_e3d4805e9e1e403fae3cff15ed4c5a4f.bindTooltip%28%0A%20%20%20%20%20%20%20%20%20%20%20%20%20%20%20%20%60%3Cdiv%3E%0A%20%20%20%20%20%20%20%20%20%20%20%20%20%20%20%20%20%20%20%20%20Osnabrueck%0A%20%20%20%20%20%20%20%20%20%20%20%20%20%20%20%20%20%3C/div%3E%60%2C%0A%20%20%20%20%20%20%20%20%20%20%20%20%20%20%20%20%7B%22sticky%22%3A%20true%7D%0A%20%20%20%20%20%20%20%20%20%20%20%20%29%3B%0A%20%20%20%20%20%20%20%20%0A%20%20%20%20%0A%20%20%20%20%20%20%20%20%20%20%20%20var%20marker_8c06172bce8d466d9c33c6aa6ca482bf%20%3D%20L.marker%28%0A%20%20%20%20%20%20%20%20%20%20%20%20%20%20%20%20%5B52.0191005%2C%208.531007%5D%2C%0A%20%20%20%20%20%20%20%20%20%20%20%20%20%20%20%20%7B%7D%0A%20%20%20%20%20%20%20%20%20%20%20%20%29.addTo%28map_87ed09ecc9134e3694cef3d51028f7b7%29%3B%0A%20%20%20%20%20%20%20%20%0A%20%20%20%20%0A%20%20%20%20%20%20%20%20%20%20%20%20var%20icon_f3a80ec697d8486c81517c12e00ac07c%20%3D%20L.AwesomeMarkers.icon%28%0A%20%20%20%20%20%20%20%20%20%20%20%20%20%20%20%20%7B%22extraClasses%22%3A%20%22fa-rotate-0%22%2C%20%22icon%22%3A%20%22home%22%2C%20%22iconColor%22%3A%20%22white%22%2C%20%22markerColor%22%3A%20%22darkblue%22%2C%20%22prefix%22%3A%20%22glyphicon%22%7D%0A%20%20%20%20%20%20%20%20%20%20%20%20%29%3B%0A%20%20%20%20%20%20%20%20%20%20%20%20marker_8c06172bce8d466d9c33c6aa6ca482bf.setIcon%28icon_f3a80ec697d8486c81517c12e00ac07c%29%3B%0A%20%20%20%20%20%20%20%20%0A%20%20%20%20%0A%20%20%20%20%20%20%20%20var%20popup_bed2682fb41e42c080f8f7eb0975cde5%20%3D%20L.popup%28%7B%22maxWidth%22%3A%20%22100%25%22%7D%29%3B%0A%0A%20%20%20%20%20%20%20%20%0A%20%20%20%20%20%20%20%20%20%20%20%20var%20html_065d0e2c10de4a6eaaafaafb1452ffda%20%3D%20%24%28%60%3Cdiv%20id%3D%22html_065d0e2c10de4a6eaaafaafb1452ffda%22%20style%3D%22width%3A%20100.0%25%3B%20height%3A%20100.0%25%3B%22%3EBielefeld%3C/div%3E%60%29%5B0%5D%3B%0A%20%20%20%20%20%20%20%20%20%20%20%20popup_bed2682fb41e42c080f8f7eb0975cde5.setContent%28html_065d0e2c10de4a6eaaafaafb1452ffda%29%3B%0A%20%20%20%20%20%20%20%20%0A%0A%20%20%20%20%20%20%20%20marker_8c06172bce8d466d9c33c6aa6ca482bf.bindPopup%28popup_bed2682fb41e42c080f8f7eb0975cde5%29%0A%20%20%20%20%20%20%20%20%3B%0A%0A%20%20%20%20%20%20%20%20%0A%20%20%20%20%0A%20%20%20%20%0A%20%20%20%20%20%20%20%20%20%20%20%20marker_8c06172bce8d466d9c33c6aa6ca482bf.bindTooltip%28%0A%20%20%20%20%20%20%20%20%20%20%20%20%20%20%20%20%60%3Cdiv%3E%0A%20%20%20%20%20%20%20%20%20%20%20%20%20%20%20%20%20%20%20%20%20Bielefeld%0A%20%20%20%20%20%20%20%20%20%20%20%20%20%20%20%20%20%3C/div%3E%60%2C%0A%20%20%20%20%20%20%20%20%20%20%20%20%20%20%20%20%7B%22sticky%22%3A%20true%7D%0A%20%20%20%20%20%20%20%20%20%20%20%20%29%3B%0A%20%20%20%20%20%20%20%20%0A%20%20%20%20%0A%20%20%20%20%20%20%20%20%20%20%20%20var%20marker_a5cb76ec451b434b91183789821ea2a4%20%3D%20L.marker%28%0A%20%20%20%20%20%20%20%20%20%20%20%20%20%20%20%20%5B52.3744779%2C%209.7385532%5D%2C%0A%20%20%20%20%20%20%20%20%20%20%20%20%20%20%20%20%7B%7D%0A%20%20%20%20%20%20%20%20%20%20%20%20%29.addTo%28map_87ed09ecc9134e3694cef3d51028f7b7%29%3B%0A%20%20%20%20%20%20%20%20%0A%20%20%20%20%0A%20%20%20%20%20%20%20%20%20%20%20%20var%20icon_d180923330e947f683d345b72c2bfdfb%20%3D%20L.AwesomeMarkers.icon%28%0A%20%20%20%20%20%20%20%20%20%20%20%20%20%20%20%20%7B%22extraClasses%22%3A%20%22fa-rotate-0%22%2C%20%22icon%22%3A%20%22home%22%2C%20%22iconColor%22%3A%20%22white%22%2C%20%22markerColor%22%3A%20%22darkblue%22%2C%20%22prefix%22%3A%20%22glyphicon%22%7D%0A%20%20%20%20%20%20%20%20%20%20%20%20%29%3B%0A%20%20%20%20%20%20%20%20%20%20%20%20marker_a5cb76ec451b434b91183789821ea2a4.setIcon%28icon_d180923330e947f683d345b72c2bfdfb%29%3B%0A%20%20%20%20%20%20%20%20%0A%20%20%20%20%0A%20%20%20%20%20%20%20%20var%20popup_a375951db9e8447388ba432e96263d85%20%3D%20L.popup%28%7B%22maxWidth%22%3A%20%22100%25%22%7D%29%3B%0A%0A%20%20%20%20%20%20%20%20%0A%20%20%20%20%20%20%20%20%20%20%20%20var%20html_30daeef86bbf489086f2b75ebaee38d4%20%3D%20%24%28%60%3Cdiv%20id%3D%22html_30daeef86bbf489086f2b75ebaee38d4%22%20style%3D%22width%3A%20100.0%25%3B%20height%3A%20100.0%25%3B%22%3EHannover%3C/div%3E%60%29%5B0%5D%3B%0A%20%20%20%20%20%20%20%20%20%20%20%20popup_a375951db9e8447388ba432e96263d85.setContent%28html_30daeef86bbf489086f2b75ebaee38d4%29%3B%0A%20%20%20%20%20%20%20%20%0A%0A%20%20%20%20%20%20%20%20marker_a5cb76ec451b434b91183789821ea2a4.bindPopup%28popup_a375951db9e8447388ba432e96263d85%29%0A%20%20%20%20%20%20%20%20%3B%0A%0A%20%20%20%20%20%20%20%20%0A%20%20%20%20%0A%20%20%20%20%0A%20%20%20%20%20%20%20%20%20%20%20%20marker_a5cb76ec451b434b91183789821ea2a4.bindTooltip%28%0A%20%20%20%20%20%20%20%20%20%20%20%20%20%20%20%20%60%3Cdiv%3E%0A%20%20%20%20%20%20%20%20%20%20%20%20%20%20%20%20%20%20%20%20%20Hannover%0A%20%20%20%20%20%20%20%20%20%20%20%20%20%20%20%20%20%3C/div%3E%60%2C%0A%20%20%20%20%20%20%20%20%20%20%20%20%20%20%20%20%7B%22sticky%22%3A%20true%7D%0A%20%20%20%20%20%20%20%20%20%20%20%20%29%3B%0A%20%20%20%20%20%20%20%20%0A%20%20%20%20%0A%20%20%20%20%20%20%20%20%20%20%20%20var%20marker_6b7cb559afef47fb89508fd66839b483%20%3D%20L.marker%28%0A%20%20%20%20%20%20%20%20%20%20%20%20%20%20%20%20%5B51.50032665%2C%209.950655394459552%5D%2C%0A%20%20%20%20%20%20%20%20%20%20%20%20%20%20%20%20%7B%7D%0A%20%20%20%20%20%20%20%20%20%20%20%20%29.addTo%28map_87ed09ecc9134e3694cef3d51028f7b7%29%3B%0A%20%20%20%20%20%20%20%20%0A%20%20%20%20%0A%20%20%20%20%20%20%20%20%20%20%20%20var%20icon_f1f30aed88184c39b13beee29239bd42%20%3D%20L.AwesomeMarkers.icon%28%0A%20%20%20%20%20%20%20%20%20%20%20%20%20%20%20%20%7B%22extraClasses%22%3A%20%22fa-rotate-0%22%2C%20%22icon%22%3A%20%22home%22%2C%20%22iconColor%22%3A%20%22white%22%2C%20%22markerColor%22%3A%20%22darkblue%22%2C%20%22prefix%22%3A%20%22glyphicon%22%7D%0A%20%20%20%20%20%20%20%20%20%20%20%20%29%3B%0A%20%20%20%20%20%20%20%20%20%20%20%20marker_6b7cb559afef47fb89508fd66839b483.setIcon%28icon_f1f30aed88184c39b13beee29239bd42%29%3B%0A%20%20%20%20%20%20%20%20%0A%20%20%20%20%0A%20%20%20%20%20%20%20%20var%20popup_5a9c8b316dd64f5a896739b1f8958dba%20%3D%20L.popup%28%7B%22maxWidth%22%3A%20%22100%25%22%7D%29%3B%0A%0A%20%20%20%20%20%20%20%20%0A%20%20%20%20%20%20%20%20%20%20%20%20var%20html_8016859fa519461c80bd422416145a5d%20%3D%20%24%28%60%3Cdiv%20id%3D%22html_8016859fa519461c80bd422416145a5d%22%20style%3D%22width%3A%20100.0%25%3B%20height%3A%20100.0%25%3B%22%3EGoettingen%3C/div%3E%60%29%5B0%5D%3B%0A%20%20%20%20%20%20%20%20%20%20%20%20popup_5a9c8b316dd64f5a896739b1f8958dba.setContent%28html_8016859fa519461c80bd422416145a5d%29%3B%0A%20%20%20%20%20%20%20%20%0A%0A%20%20%20%20%20%20%20%20marker_6b7cb559afef47fb89508fd66839b483.bindPopup%28popup_5a9c8b316dd64f5a896739b1f8958dba%29%0A%20%20%20%20%20%20%20%20%3B%0A%0A%20%20%20%20%20%20%20%20%0A%20%20%20%20%0A%20%20%20%20%0A%20%20%20%20%20%20%20%20%20%20%20%20marker_6b7cb559afef47fb89508fd66839b483.bindTooltip%28%0A%20%20%20%20%20%20%20%20%20%20%20%20%20%20%20%20%60%3Cdiv%3E%0A%20%20%20%20%20%20%20%20%20%20%20%20%20%20%20%20%20%20%20%20%20Goettingen%0A%20%20%20%20%20%20%20%20%20%20%20%20%20%20%20%20%20%3C/div%3E%60%2C%0A%20%20%20%20%20%20%20%20%20%20%20%20%20%20%20%20%7B%22sticky%22%3A%20true%7D%0A%20%20%20%20%20%20%20%20%20%20%20%20%29%3B%0A%20%20%20%20%20%20%20%20%0A%20%20%20%20%0A%20%20%20%20%20%20%20%20%20%20%20%20var%20marker_77bea94e63be47b3a55a2b8a868727bd%20%3D%20L.marker%28%0A%20%20%20%20%20%20%20%20%20%20%20%20%20%20%20%20%5B51.3154546%2C%209.4924096%5D%2C%0A%20%20%20%20%20%20%20%20%20%20%20%20%20%20%20%20%7B%7D%0A%20%20%20%20%20%20%20%20%20%20%20%20%29.addTo%28map_87ed09ecc9134e3694cef3d51028f7b7%29%3B%0A%20%20%20%20%20%20%20%20%0A%20%20%20%20%0A%20%20%20%20%20%20%20%20%20%20%20%20var%20icon_4074704fb59b403b9d6b1be528f3284e%20%3D%20L.AwesomeMarkers.icon%28%0A%20%20%20%20%20%20%20%20%20%20%20%20%20%20%20%20%7B%22extraClasses%22%3A%20%22fa-rotate-0%22%2C%20%22icon%22%3A%20%22home%22%2C%20%22iconColor%22%3A%20%22white%22%2C%20%22markerColor%22%3A%20%22darkblue%22%2C%20%22prefix%22%3A%20%22glyphicon%22%7D%0A%20%20%20%20%20%20%20%20%20%20%20%20%29%3B%0A%20%20%20%20%20%20%20%20%20%20%20%20marker_77bea94e63be47b3a55a2b8a868727bd.setIcon%28icon_4074704fb59b403b9d6b1be528f3284e%29%3B%0A%20%20%20%20%20%20%20%20%0A%20%20%20%20%0A%20%20%20%20%20%20%20%20var%20popup_e4738ba2c62e4bb39df31a91da52cd3f%20%3D%20L.popup%28%7B%22maxWidth%22%3A%20%22100%25%22%7D%29%3B%0A%0A%20%20%20%20%20%20%20%20%0A%20%20%20%20%20%20%20%20%20%20%20%20var%20html_87b2dd66e7c54e8ea162ae38ebcd913c%20%3D%20%24%28%60%3Cdiv%20id%3D%22html_87b2dd66e7c54e8ea162ae38ebcd913c%22%20style%3D%22width%3A%20100.0%25%3B%20height%3A%20100.0%25%3B%22%3EKassel%3C/div%3E%60%29%5B0%5D%3B%0A%20%20%20%20%20%20%20%20%20%20%20%20popup_e4738ba2c62e4bb39df31a91da52cd3f.setContent%28html_87b2dd66e7c54e8ea162ae38ebcd913c%29%3B%0A%20%20%20%20%20%20%20%20%0A%0A%20%20%20%20%20%20%20%20marker_77bea94e63be47b3a55a2b8a868727bd.bindPopup%28popup_e4738ba2c62e4bb39df31a91da52cd3f%29%0A%20%20%20%20%20%20%20%20%3B%0A%0A%20%20%20%20%20%20%20%20%0A%20%20%20%20%0A%20%20%20%20%0A%20%20%20%20%20%20%20%20%20%20%20%20marker_77bea94e63be47b3a55a2b8a868727bd.bindTooltip%28%0A%20%20%20%20%20%20%20%20%20%20%20%20%20%20%20%20%60%3Cdiv%3E%0A%20%20%20%20%20%20%20%20%20%20%20%20%20%20%20%20%20%20%20%20%20Kassel%0A%20%20%20%20%20%20%20%20%20%20%20%20%20%20%20%20%20%3C/div%3E%60%2C%0A%20%20%20%20%20%20%20%20%20%20%20%20%20%20%20%20%7B%22sticky%22%3A%20true%7D%0A%20%20%20%20%20%20%20%20%20%20%20%20%29%3B%0A%20%20%20%20%20%20%20%20%0A%20%20%20%20%0A%20%20%20%20%20%20%20%20%20%20%20%20var%20marker_a7a2a61d96bc4714b24e84706afa86d0%20%3D%20L.marker%28%0A%20%20%20%20%20%20%20%20%20%20%20%20%20%20%20%20%5B50.8749804%2C%208.0227233%5D%2C%0A%20%20%20%20%20%20%20%20%20%20%20%20%20%20%20%20%7B%7D%0A%20%20%20%20%20%20%20%20%20%20%20%20%29.addTo%28map_87ed09ecc9134e3694cef3d51028f7b7%29%3B%0A%20%20%20%20%20%20%20%20%0A%20%20%20%20%0A%20%20%20%20%20%20%20%20%20%20%20%20var%20icon_51cec894de4e49e89f62f07627dcc25f%20%3D%20L.AwesomeMarkers.icon%28%0A%20%20%20%20%20%20%20%20%20%20%20%20%20%20%20%20%7B%22extraClasses%22%3A%20%22fa-rotate-0%22%2C%20%22icon%22%3A%20%22home%22%2C%20%22iconColor%22%3A%20%22white%22%2C%20%22markerColor%22%3A%20%22darkblue%22%2C%20%22prefix%22%3A%20%22glyphicon%22%7D%0A%20%20%20%20%20%20%20%20%20%20%20%20%29%3B%0A%20%20%20%20%20%20%20%20%20%20%20%20marker_a7a2a61d96bc4714b24e84706afa86d0.setIcon%28icon_51cec894de4e49e89f62f07627dcc25f%29%3B%0A%20%20%20%20%20%20%20%20%0A%20%20%20%20%0A%20%20%20%20%20%20%20%20var%20popup_850ba59ccc7e43ebb4838ca06478a748%20%3D%20L.popup%28%7B%22maxWidth%22%3A%20%22100%25%22%7D%29%3B%0A%0A%20%20%20%20%20%20%20%20%0A%20%20%20%20%20%20%20%20%20%20%20%20var%20html_821ab131276d429b8c5565a716866cad%20%3D%20%24%28%60%3Cdiv%20id%3D%22html_821ab131276d429b8c5565a716866cad%22%20style%3D%22width%3A%20100.0%25%3B%20height%3A%20100.0%25%3B%22%3ESiegen%3C/div%3E%60%29%5B0%5D%3B%0A%20%20%20%20%20%20%20%20%20%20%20%20popup_850ba59ccc7e43ebb4838ca06478a748.setContent%28html_821ab131276d429b8c5565a716866cad%29%3B%0A%20%20%20%20%20%20%20%20%0A%0A%20%20%20%20%20%20%20%20marker_a7a2a61d96bc4714b24e84706afa86d0.bindPopup%28popup_850ba59ccc7e43ebb4838ca06478a748%29%0A%20%20%20%20%20%20%20%20%3B%0A%0A%20%20%20%20%20%20%20%20%0A%20%20%20%20%0A%20%20%20%20%0A%20%20%20%20%20%20%20%20%20%20%20%20marker_a7a2a61d96bc4714b24e84706afa86d0.bindTooltip%28%0A%20%20%20%20%20%20%20%20%20%20%20%20%20%20%20%20%60%3Cdiv%3E%0A%20%20%20%20%20%20%20%20%20%20%20%20%20%20%20%20%20%20%20%20%20Siegen%0A%20%20%20%20%20%20%20%20%20%20%20%20%20%20%20%20%20%3C/div%3E%60%2C%0A%20%20%20%20%20%20%20%20%20%20%20%20%20%20%20%20%7B%22sticky%22%3A%20true%7D%0A%20%20%20%20%20%20%20%20%20%20%20%20%29%3B%0A%20%20%20%20%20%20%20%20%0A%20%20%20%20%0A%20%20%20%20%20%20%20%20%20%20%20%20var%20marker_fea707332d8646e7931f58b0d181601b%20%3D%20L.marker%28%0A%20%20%20%20%20%20%20%20%20%20%20%20%20%20%20%20%5B51.19077325%2C%206.793516713552313%5D%2C%0A%20%20%20%20%20%20%20%20%20%20%20%20%20%20%20%20%7B%7D%0A%20%20%20%20%20%20%20%20%20%20%20%20%29.addTo%28map_87ed09ecc9134e3694cef3d51028f7b7%29%3B%0A%20%20%20%20%20%20%20%20%0A%20%20%20%20%0A%20%20%20%20%20%20%20%20%20%20%20%20var%20icon_9be25528ac6d4943949a799268c10557%20%3D%20L.AwesomeMarkers.icon%28%0A%20%20%20%20%20%20%20%20%20%20%20%20%20%20%20%20%7B%22extraClasses%22%3A%20%22fa-rotate-0%22%2C%20%22icon%22%3A%20%22home%22%2C%20%22iconColor%22%3A%20%22white%22%2C%20%22markerColor%22%3A%20%22darkblue%22%2C%20%22prefix%22%3A%20%22glyphicon%22%7D%0A%20%20%20%20%20%20%20%20%20%20%20%20%29%3B%0A%20%20%20%20%20%20%20%20%20%20%20%20marker_fea707332d8646e7931f58b0d181601b.setIcon%28icon_9be25528ac6d4943949a799268c10557%29%3B%0A%20%20%20%20%20%20%20%20%0A%20%20%20%20%0A%20%20%20%20%20%20%20%20var%20popup_8597248b47d2400fb4f4d0c11b62739b%20%3D%20L.popup%28%7B%22maxWidth%22%3A%20%22100%25%22%7D%29%3B%0A%0A%20%20%20%20%20%20%20%20%0A%20%20%20%20%20%20%20%20%20%20%20%20var%20html_a5d50a182de240cfa5b6c56a8148d219%20%3D%20%24%28%60%3Cdiv%20id%3D%22html_a5d50a182de240cfa5b6c56a8148d219%22%20style%3D%22width%3A%20100.0%25%3B%20height%3A%20100.0%25%3B%22%3EDuesseldorf%3C/div%3E%60%29%5B0%5D%3B%0A%20%20%20%20%20%20%20%20%20%20%20%20popup_8597248b47d2400fb4f4d0c11b62739b.setContent%28html_a5d50a182de240cfa5b6c56a8148d219%29%3B%0A%20%20%20%20%20%20%20%20%0A%0A%20%20%20%20%20%20%20%20marker_fea707332d8646e7931f58b0d181601b.bindPopup%28popup_8597248b47d2400fb4f4d0c11b62739b%29%0A%20%20%20%20%20%20%20%20%3B%0A%0A%20%20%20%20%20%20%20%20%0A%20%20%20%20%0A%20%20%20%20%0A%20%20%20%20%20%20%20%20%20%20%20%20marker_fea707332d8646e7931f58b0d181601b.bindTooltip%28%0A%20%20%20%20%20%20%20%20%20%20%20%20%20%20%20%20%60%3Cdiv%3E%0A%20%20%20%20%20%20%20%20%20%20%20%20%20%20%20%20%20%20%20%20%20Duesseldorf%0A%20%20%20%20%20%20%20%20%20%20%20%20%20%20%20%20%20%3C/div%3E%60%2C%0A%20%20%20%20%20%20%20%20%20%20%20%20%20%20%20%20%7B%22sticky%22%3A%20true%7D%0A%20%20%20%20%20%20%20%20%20%20%20%20%29%3B%0A%20%20%20%20%20%20%20%20%0A%20%20%20%20%0A%20%20%20%20%20%20%20%20%20%20%20%20var%20marker_a8d491fc050e492fa81c1ea0113970e0%20%3D%20L.marker%28%0A%20%20%20%20%20%20%20%20%20%20%20%20%20%20%20%20%5B50.1106444%2C%208.6820917%5D%2C%0A%20%20%20%20%20%20%20%20%20%20%20%20%20%20%20%20%7B%7D%0A%20%20%20%20%20%20%20%20%20%20%20%20%29.addTo%28map_87ed09ecc9134e3694cef3d51028f7b7%29%3B%0A%20%20%20%20%20%20%20%20%0A%20%20%20%20%0A%20%20%20%20%20%20%20%20%20%20%20%20var%20icon_2b340573e8ac4972a108fc8a0cf34953%20%3D%20L.AwesomeMarkers.icon%28%0A%20%20%20%20%20%20%20%20%20%20%20%20%20%20%20%20%7B%22extraClasses%22%3A%20%22fa-rotate-0%22%2C%20%22icon%22%3A%20%22home%22%2C%20%22iconColor%22%3A%20%22white%22%2C%20%22markerColor%22%3A%20%22darkblue%22%2C%20%22prefix%22%3A%20%22glyphicon%22%7D%0A%20%20%20%20%20%20%20%20%20%20%20%20%29%3B%0A%20%20%20%20%20%20%20%20%20%20%20%20marker_a8d491fc050e492fa81c1ea0113970e0.setIcon%28icon_2b340573e8ac4972a108fc8a0cf34953%29%3B%0A%20%20%20%20%20%20%20%20%0A%20%20%20%20%0A%20%20%20%20%20%20%20%20var%20popup_2e1603fcae0046c7b6ff58c16e5200e2%20%3D%20L.popup%28%7B%22maxWidth%22%3A%20%22100%25%22%7D%29%3B%0A%0A%20%20%20%20%20%20%20%20%0A%20%20%20%20%20%20%20%20%20%20%20%20var%20html_93f74e09798842f4a4371a91b55790a3%20%3D%20%24%28%60%3Cdiv%20id%3D%22html_93f74e09798842f4a4371a91b55790a3%22%20style%3D%22width%3A%20100.0%25%3B%20height%3A%20100.0%25%3B%22%3EFrankfurt%3C/div%3E%60%29%5B0%5D%3B%0A%20%20%20%20%20%20%20%20%20%20%20%20popup_2e1603fcae0046c7b6ff58c16e5200e2.setContent%28html_93f74e09798842f4a4371a91b55790a3%29%3B%0A%20%20%20%20%20%20%20%20%0A%0A%20%20%20%20%20%20%20%20marker_a8d491fc050e492fa81c1ea0113970e0.bindPopup%28popup_2e1603fcae0046c7b6ff58c16e5200e2%29%0A%20%20%20%20%20%20%20%20%3B%0A%0A%20%20%20%20%20%20%20%20%0A%20%20%20%20%0A%20%20%20%20%0A%20%20%20%20%20%20%20%20%20%20%20%20marker_a8d491fc050e492fa81c1ea0113970e0.bindTooltip%28%0A%20%20%20%20%20%20%20%20%20%20%20%20%20%20%20%20%60%3Cdiv%3E%0A%20%20%20%20%20%20%20%20%20%20%20%20%20%20%20%20%20%20%20%20%20Frankfurt%0A%20%20%20%20%20%20%20%20%20%20%20%20%20%20%20%20%20%3C/div%3E%60%2C%0A%20%20%20%20%20%20%20%20%20%20%20%20%20%20%20%20%7B%22sticky%22%3A%20true%7D%0A%20%20%20%20%20%20%20%20%20%20%20%20%29%3B%0A%20%20%20%20%20%20%20%20%0A%20%20%20%20%0A%20%20%20%20%20%20%20%20%20%20%20%20var%20marker_67fa847d697041389b760979171b9355%20%3D%20L.marker%28%0A%20%20%20%20%20%20%20%20%20%20%20%20%20%20%20%20%5B49.0068705%2C%208.4034195%5D%2C%0A%20%20%20%20%20%20%20%20%20%20%20%20%20%20%20%20%7B%7D%0A%20%20%20%20%20%20%20%20%20%20%20%20%29.addTo%28map_87ed09ecc9134e3694cef3d51028f7b7%29%3B%0A%20%20%20%20%20%20%20%20%0A%20%20%20%20%0A%20%20%20%20%20%20%20%20%20%20%20%20var%20icon_d7da10c955e24a4c9b43e380c4136875%20%3D%20L.AwesomeMarkers.icon%28%0A%20%20%20%20%20%20%20%20%20%20%20%20%20%20%20%20%7B%22extraClasses%22%3A%20%22fa-rotate-0%22%2C%20%22icon%22%3A%20%22home%22%2C%20%22iconColor%22%3A%20%22white%22%2C%20%22markerColor%22%3A%20%22darkblue%22%2C%20%22prefix%22%3A%20%22glyphicon%22%7D%0A%20%20%20%20%20%20%20%20%20%20%20%20%29%3B%0A%20%20%20%20%20%20%20%20%20%20%20%20marker_67fa847d697041389b760979171b9355.setIcon%28icon_d7da10c955e24a4c9b43e380c4136875%29%3B%0A%20%20%20%20%20%20%20%20%0A%20%20%20%20%0A%20%20%20%20%20%20%20%20var%20popup_6726e255630c44738215e0312e99bf08%20%3D%20L.popup%28%7B%22maxWidth%22%3A%20%22100%25%22%7D%29%3B%0A%0A%20%20%20%20%20%20%20%20%0A%20%20%20%20%20%20%20%20%20%20%20%20var%20html_0f0968a460d04e03ba39dc49bbba9668%20%3D%20%24%28%60%3Cdiv%20id%3D%22html_0f0968a460d04e03ba39dc49bbba9668%22%20style%3D%22width%3A%20100.0%25%3B%20height%3A%20100.0%25%3B%22%3EKarlsruhe%3C/div%3E%60%29%5B0%5D%3B%0A%20%20%20%20%20%20%20%20%20%20%20%20popup_6726e255630c44738215e0312e99bf08.setContent%28html_0f0968a460d04e03ba39dc49bbba9668%29%3B%0A%20%20%20%20%20%20%20%20%0A%0A%20%20%20%20%20%20%20%20marker_67fa847d697041389b760979171b9355.bindPopup%28popup_6726e255630c44738215e0312e99bf08%29%0A%20%20%20%20%20%20%20%20%3B%0A%0A%20%20%20%20%20%20%20%20%0A%20%20%20%20%0A%20%20%20%20%0A%20%20%20%20%20%20%20%20%20%20%20%20marker_67fa847d697041389b760979171b9355.bindTooltip%28%0A%20%20%20%20%20%20%20%20%20%20%20%20%20%20%20%20%60%3Cdiv%3E%0A%20%20%20%20%20%20%20%20%20%20%20%20%20%20%20%20%20%20%20%20%20Karlsruhe%0A%20%20%20%20%20%20%20%20%20%20%20%20%20%20%20%20%20%3C/div%3E%60%2C%0A%20%20%20%20%20%20%20%20%20%20%20%20%20%20%20%20%7B%22sticky%22%3A%20true%7D%0A%20%20%20%20%20%20%20%20%20%20%20%20%29%3B%0A%20%20%20%20%20%20%20%20%0A%20%20%20%20%0A%20%20%20%20%20%20%20%20%20%20%20%20var%20marker_491d6636eb894902b85a543fbfd5fc56%20%3D%20L.marker%28%0A%20%20%20%20%20%20%20%20%20%20%20%20%20%20%20%20%5B48.7784485%2C%209.1800132%5D%2C%0A%20%20%20%20%20%20%20%20%20%20%20%20%20%20%20%20%7B%7D%0A%20%20%20%20%20%20%20%20%20%20%20%20%29.addTo%28map_87ed09ecc9134e3694cef3d51028f7b7%29%3B%0A%20%20%20%20%20%20%20%20%0A%20%20%20%20%0A%20%20%20%20%20%20%20%20%20%20%20%20var%20icon_ae97a7b588664cf995affee08068fe62%20%3D%20L.AwesomeMarkers.icon%28%0A%20%20%20%20%20%20%20%20%20%20%20%20%20%20%20%20%7B%22extraClasses%22%3A%20%22fa-rotate-0%22%2C%20%22icon%22%3A%20%22home%22%2C%20%22iconColor%22%3A%20%22white%22%2C%20%22markerColor%22%3A%20%22darkblue%22%2C%20%22prefix%22%3A%20%22glyphicon%22%7D%0A%20%20%20%20%20%20%20%20%20%20%20%20%29%3B%0A%20%20%20%20%20%20%20%20%20%20%20%20marker_491d6636eb894902b85a543fbfd5fc56.setIcon%28icon_ae97a7b588664cf995affee08068fe62%29%3B%0A%20%20%20%20%20%20%20%20%0A%20%20%20%20%0A%20%20%20%20%20%20%20%20var%20popup_1875b91fa82f43a785962c69e0247463%20%3D%20L.popup%28%7B%22maxWidth%22%3A%20%22100%25%22%7D%29%3B%0A%0A%20%20%20%20%20%20%20%20%0A%20%20%20%20%20%20%20%20%20%20%20%20var%20html_40db63649be148778b52ffd26ce87d72%20%3D%20%24%28%60%3Cdiv%20id%3D%22html_40db63649be148778b52ffd26ce87d72%22%20style%3D%22width%3A%20100.0%25%3B%20height%3A%20100.0%25%3B%22%3EStuttgart%3C/div%3E%60%29%5B0%5D%3B%0A%20%20%20%20%20%20%20%20%20%20%20%20popup_1875b91fa82f43a785962c69e0247463.setContent%28html_40db63649be148778b52ffd26ce87d72%29%3B%0A%20%20%20%20%20%20%20%20%0A%0A%20%20%20%20%20%20%20%20marker_491d6636eb894902b85a543fbfd5fc56.bindPopup%28popup_1875b91fa82f43a785962c69e0247463%29%0A%20%20%20%20%20%20%20%20%3B%0A%0A%20%20%20%20%20%20%20%20%0A%20%20%20%20%0A%20%20%20%20%0A%20%20%20%20%20%20%20%20%20%20%20%20marker_491d6636eb894902b85a543fbfd5fc56.bindTooltip%28%0A%20%20%20%20%20%20%20%20%20%20%20%20%20%20%20%20%60%3Cdiv%3E%0A%20%20%20%20%20%20%20%20%20%20%20%20%20%20%20%20%20%20%20%20%20Stuttgart%0A%20%20%20%20%20%20%20%20%20%20%20%20%20%20%20%20%20%3C/div%3E%60%2C%0A%20%20%20%20%20%20%20%20%20%20%20%20%20%20%20%20%7B%22sticky%22%3A%20true%7D%0A%20%20%20%20%20%20%20%20%20%20%20%20%29%3B%0A%20%20%20%20%20%20%20%20%0A%20%20%20%20%0A%20%20%20%20%20%20%20%20%20%20%20%20var%20marker_65badbd39e1f41f6a74b3780a8229cd4%20%3D%20L.marker%28%0A%20%20%20%20%20%20%20%20%20%20%20%20%20%20%20%20%5B48.1371079%2C%2011.5753822%5D%2C%0A%20%20%20%20%20%20%20%20%20%20%20%20%20%20%20%20%7B%7D%0A%20%20%20%20%20%20%20%20%20%20%20%20%29.addTo%28map_87ed09ecc9134e3694cef3d51028f7b7%29%3B%0A%20%20%20%20%20%20%20%20%0A%20%20%20%20%0A%20%20%20%20%20%20%20%20%20%20%20%20var%20icon_088bac4fa21347e882ee3ec9a0578724%20%3D%20L.AwesomeMarkers.icon%28%0A%20%20%20%20%20%20%20%20%20%20%20%20%20%20%20%20%7B%22extraClasses%22%3A%20%22fa-rotate-0%22%2C%20%22icon%22%3A%20%22home%22%2C%20%22iconColor%22%3A%20%22white%22%2C%20%22markerColor%22%3A%20%22darkblue%22%2C%20%22prefix%22%3A%20%22glyphicon%22%7D%0A%20%20%20%20%20%20%20%20%20%20%20%20%29%3B%0A%20%20%20%20%20%20%20%20%20%20%20%20marker_65badbd39e1f41f6a74b3780a8229cd4.setIcon%28icon_088bac4fa21347e882ee3ec9a0578724%29%3B%0A%20%20%20%20%20%20%20%20%0A%20%20%20%20%0A%20%20%20%20%20%20%20%20var%20popup_7573c8562ca94f98a349d36eddc56574%20%3D%20L.popup%28%7B%22maxWidth%22%3A%20%22100%25%22%7D%29%3B%0A%0A%20%20%20%20%20%20%20%20%0A%20%20%20%20%20%20%20%20%20%20%20%20var%20html_99e92dc99ffb4f79bdc30dd36c34f804%20%3D%20%24%28%60%3Cdiv%20id%3D%22html_99e92dc99ffb4f79bdc30dd36c34f804%22%20style%3D%22width%3A%20100.0%25%3B%20height%3A%20100.0%25%3B%22%3EMunich%3C/div%3E%60%29%5B0%5D%3B%0A%20%20%20%20%20%20%20%20%20%20%20%20popup_7573c8562ca94f98a349d36eddc56574.setContent%28html_99e92dc99ffb4f79bdc30dd36c34f804%29%3B%0A%20%20%20%20%20%20%20%20%0A%0A%20%20%20%20%20%20%20%20marker_65badbd39e1f41f6a74b3780a8229cd4.bindPopup%28popup_7573c8562ca94f98a349d36eddc56574%29%0A%20%20%20%20%20%20%20%20%3B%0A%0A%20%20%20%20%20%20%20%20%0A%20%20%20%20%0A%20%20%20%20%0A%20%20%20%20%20%20%20%20%20%20%20%20marker_65badbd39e1f41f6a74b3780a8229cd4.bindTooltip%28%0A%20%20%20%20%20%20%20%20%20%20%20%20%20%20%20%20%60%3Cdiv%3E%0A%20%20%20%20%20%20%20%20%20%20%20%20%20%20%20%20%20%20%20%20%20Munich%0A%20%20%20%20%20%20%20%20%20%20%20%20%20%20%20%20%20%3C/div%3E%60%2C%0A%20%20%20%20%20%20%20%20%20%20%20%20%20%20%20%20%7B%22sticky%22%3A%20true%7D%0A%20%20%20%20%20%20%20%20%20%20%20%20%29%3B%0A%20%20%20%20%20%20%20%20%0A%20%20%20%20%0A%20%20%20%20%20%20%20%20%20%20%20%20var%20marker_1b22536ab6ad47ea85319815041f2f61%20%3D%20L.marker%28%0A%20%20%20%20%20%20%20%20%20%20%20%20%20%20%20%20%5B51.0493286%2C%2013.7381437%5D%2C%0A%20%20%20%20%20%20%20%20%20%20%20%20%20%20%20%20%7B%7D%0A%20%20%20%20%20%20%20%20%20%20%20%20%29.addTo%28map_87ed09ecc9134e3694cef3d51028f7b7%29%3B%0A%20%20%20%20%20%20%20%20%0A%20%20%20%20%0A%20%20%20%20%20%20%20%20%20%20%20%20var%20icon_86035dfd9eee4925964e18836e130d52%20%3D%20L.AwesomeMarkers.icon%28%0A%20%20%20%20%20%20%20%20%20%20%20%20%20%20%20%20%7B%22extraClasses%22%3A%20%22fa-rotate-0%22%2C%20%22icon%22%3A%20%22home%22%2C%20%22iconColor%22%3A%20%22white%22%2C%20%22markerColor%22%3A%20%22darkblue%22%2C%20%22prefix%22%3A%20%22glyphicon%22%7D%0A%20%20%20%20%20%20%20%20%20%20%20%20%29%3B%0A%20%20%20%20%20%20%20%20%20%20%20%20marker_1b22536ab6ad47ea85319815041f2f61.setIcon%28icon_86035dfd9eee4925964e18836e130d52%29%3B%0A%20%20%20%20%20%20%20%20%0A%20%20%20%20%0A%20%20%20%20%20%20%20%20var%20popup_b3299e59d3ab4c55a9be44c42463a2a9%20%3D%20L.popup%28%7B%22maxWidth%22%3A%20%22100%25%22%7D%29%3B%0A%0A%20%20%20%20%20%20%20%20%0A%20%20%20%20%20%20%20%20%20%20%20%20var%20html_cb90e160952a4425b5c40404f36b6fea%20%3D%20%24%28%60%3Cdiv%20id%3D%22html_cb90e160952a4425b5c40404f36b6fea%22%20style%3D%22width%3A%20100.0%25%3B%20height%3A%20100.0%25%3B%22%3EDresden%3C/div%3E%60%29%5B0%5D%3B%0A%20%20%20%20%20%20%20%20%20%20%20%20popup_b3299e59d3ab4c55a9be44c42463a2a9.setContent%28html_cb90e160952a4425b5c40404f36b6fea%29%3B%0A%20%20%20%20%20%20%20%20%0A%0A%20%20%20%20%20%20%20%20marker_1b22536ab6ad47ea85319815041f2f61.bindPopup%28popup_b3299e59d3ab4c55a9be44c42463a2a9%29%0A%20%20%20%20%20%20%20%20%3B%0A%0A%20%20%20%20%20%20%20%20%0A%20%20%20%20%0A%20%20%20%20%0A%20%20%20%20%20%20%20%20%20%20%20%20marker_1b22536ab6ad47ea85319815041f2f61.bindTooltip%28%0A%20%20%20%20%20%20%20%20%20%20%20%20%20%20%20%20%60%3Cdiv%3E%0A%20%20%20%20%20%20%20%20%20%20%20%20%20%20%20%20%20%20%20%20%20Dresden%0A%20%20%20%20%20%20%20%20%20%20%20%20%20%20%20%20%20%3C/div%3E%60%2C%0A%20%20%20%20%20%20%20%20%20%20%20%20%20%20%20%20%7B%22sticky%22%3A%20true%7D%0A%20%20%20%20%20%20%20%20%20%20%20%20%29%3B%0A%20%20%20%20%20%20%20%20%0A%20%20%20%20%0A%20%20%20%20%20%20%20%20%20%20%20%20var%20marker_6733d1656ab640d9ab0c2012f807c509%20%3D%20L.marker%28%0A%20%20%20%20%20%20%20%20%20%20%20%20%20%20%20%20%5B52.5186925%2C%2013.3996024%5D%2C%0A%20%20%20%20%20%20%20%20%20%20%20%20%20%20%20%20%7B%7D%0A%20%20%20%20%20%20%20%20%20%20%20%20%29.addTo%28map_87ed09ecc9134e3694cef3d51028f7b7%29%3B%0A%20%20%20%20%20%20%20%20%0A%20%20%20%20%0A%20%20%20%20%20%20%20%20%20%20%20%20var%20icon_d6196eca1f214f37839d1c6b4aa5bb06%20%3D%20L.AwesomeMarkers.icon%28%0A%20%20%20%20%20%20%20%20%20%20%20%20%20%20%20%20%7B%22extraClasses%22%3A%20%22fa-rotate-0%22%2C%20%22icon%22%3A%20%22home%22%2C%20%22iconColor%22%3A%20%22white%22%2C%20%22markerColor%22%3A%20%22darkblue%22%2C%20%22prefix%22%3A%20%22glyphicon%22%7D%0A%20%20%20%20%20%20%20%20%20%20%20%20%29%3B%0A%20%20%20%20%20%20%20%20%20%20%20%20marker_6733d1656ab640d9ab0c2012f807c509.setIcon%28icon_d6196eca1f214f37839d1c6b4aa5bb06%29%3B%0A%20%20%20%20%20%20%20%20%0A%20%20%20%20%0A%20%20%20%20%20%20%20%20var%20popup_10262b424cb14709a68f36e17f2ca21c%20%3D%20L.popup%28%7B%22maxWidth%22%3A%20%22100%25%22%7D%29%3B%0A%0A%20%20%20%20%20%20%20%20%0A%20%20%20%20%20%20%20%20%20%20%20%20var%20html_22922be27e004e6e831b9c8534f15c8e%20%3D%20%24%28%60%3Cdiv%20id%3D%22html_22922be27e004e6e831b9c8534f15c8e%22%20style%3D%22width%3A%20100.0%25%3B%20height%3A%20100.0%25%3B%22%3EBerlin%3C/div%3E%60%29%5B0%5D%3B%0A%20%20%20%20%20%20%20%20%20%20%20%20popup_10262b424cb14709a68f36e17f2ca21c.setContent%28html_22922be27e004e6e831b9c8534f15c8e%29%3B%0A%20%20%20%20%20%20%20%20%0A%0A%20%20%20%20%20%20%20%20marker_6733d1656ab640d9ab0c2012f807c509.bindPopup%28popup_10262b424cb14709a68f36e17f2ca21c%29%0A%20%20%20%20%20%20%20%20%3B%0A%0A%20%20%20%20%20%20%20%20%0A%20%20%20%20%0A%20%20%20%20%0A%20%20%20%20%20%20%20%20%20%20%20%20marker_6733d1656ab640d9ab0c2012f807c509.bindTooltip%28%0A%20%20%20%20%20%20%20%20%20%20%20%20%20%20%20%20%60%3Cdiv%3E%0A%20%20%20%20%20%20%20%20%20%20%20%20%20%20%20%20%20%20%20%20%20Berlin%0A%20%20%20%20%20%20%20%20%20%20%20%20%20%20%20%20%20%3C/div%3E%60%2C%0A%20%20%20%20%20%20%20%20%20%20%20%20%20%20%20%20%7B%22sticky%22%3A%20true%7D%0A%20%20%20%20%20%20%20%20%20%20%20%20%29%3B%0A%20%20%20%20%20%20%20%20%0A%20%20%20%20%0A%20%20%20%20%20%20%20%20%20%20%20%20var%20marker_cc32ccd7ac624dc1ae04b433f86130ee%20%3D%20L.marker%28%0A%20%20%20%20%20%20%20%20%20%20%20%20%20%20%20%20%5B53.550341%2C%2010.000654%5D%2C%0A%20%20%20%20%20%20%20%20%20%20%20%20%20%20%20%20%7B%7D%0A%20%20%20%20%20%20%20%20%20%20%20%20%29.addTo%28map_87ed09ecc9134e3694cef3d51028f7b7%29%3B%0A%20%20%20%20%20%20%20%20%0A%20%20%20%20%0A%20%20%20%20%20%20%20%20%20%20%20%20var%20icon_99c4ffd03acc40bf8d002774a55e3e43%20%3D%20L.AwesomeMarkers.icon%28%0A%20%20%20%20%20%20%20%20%20%20%20%20%20%20%20%20%7B%22extraClasses%22%3A%20%22fa-rotate-0%22%2C%20%22icon%22%3A%20%22home%22%2C%20%22iconColor%22%3A%20%22white%22%2C%20%22markerColor%22%3A%20%22darkblue%22%2C%20%22prefix%22%3A%20%22glyphicon%22%7D%0A%20%20%20%20%20%20%20%20%20%20%20%20%29%3B%0A%20%20%20%20%20%20%20%20%20%20%20%20marker_cc32ccd7ac624dc1ae04b433f86130ee.setIcon%28icon_99c4ffd03acc40bf8d002774a55e3e43%29%3B%0A%20%20%20%20%20%20%20%20%0A%20%20%20%20%0A%20%20%20%20%20%20%20%20var%20popup_fe488782d8d549b78a83556f546623c4%20%3D%20L.popup%28%7B%22maxWidth%22%3A%20%22100%25%22%7D%29%3B%0A%0A%20%20%20%20%20%20%20%20%0A%20%20%20%20%20%20%20%20%20%20%20%20var%20html_53d0ee9c444c499a8aec06948f1c0ce3%20%3D%20%24%28%60%3Cdiv%20id%3D%22html_53d0ee9c444c499a8aec06948f1c0ce3%22%20style%3D%22width%3A%20100.0%25%3B%20height%3A%20100.0%25%3B%22%3EHamburg%3C/div%3E%60%29%5B0%5D%3B%0A%20%20%20%20%20%20%20%20%20%20%20%20popup_fe488782d8d549b78a83556f546623c4.setContent%28html_53d0ee9c444c499a8aec06948f1c0ce3%29%3B%0A%20%20%20%20%20%20%20%20%0A%0A%20%20%20%20%20%20%20%20marker_cc32ccd7ac624dc1ae04b433f86130ee.bindPopup%28popup_fe488782d8d549b78a83556f546623c4%29%0A%20%20%20%20%20%20%20%20%3B%0A%0A%20%20%20%20%20%20%20%20%0A%20%20%20%20%0A%20%20%20%20%0A%20%20%20%20%20%20%20%20%20%20%20%20marker_cc32ccd7ac624dc1ae04b433f86130ee.bindTooltip%28%0A%20%20%20%20%20%20%20%20%20%20%20%20%20%20%20%20%60%3Cdiv%3E%0A%20%20%20%20%20%20%20%20%20%20%20%20%20%20%20%20%20%20%20%20%20Hamburg%0A%20%20%20%20%20%20%20%20%20%20%20%20%20%20%20%20%20%3C/div%3E%60%2C%0A%20%20%20%20%20%20%20%20%20%20%20%20%20%20%20%20%7B%22sticky%22%3A%20true%7D%0A%20%20%20%20%20%20%20%20%20%20%20%20%29%3B%0A%20%20%20%20%20%20%20%20%0A%20%20%20%20%0A%20%20%20%20%20%20%20%20%20%20%20%20var%20marker_e2a393cd30a34b43bf7ca5c27432c877%20%3D%20L.marker%28%0A%20%20%20%20%20%20%20%20%20%20%20%20%20%20%20%20%5B53.0758196%2C%208.8071646%5D%2C%0A%20%20%20%20%20%20%20%20%20%20%20%20%20%20%20%20%7B%7D%0A%20%20%20%20%20%20%20%20%20%20%20%20%29.addTo%28map_87ed09ecc9134e3694cef3d51028f7b7%29%3B%0A%20%20%20%20%20%20%20%20%0A%20%20%20%20%0A%20%20%20%20%20%20%20%20%20%20%20%20var%20icon_317f3fb08f1c4e08ba7ec4cbd95a5cb8%20%3D%20L.AwesomeMarkers.icon%28%0A%20%20%20%20%20%20%20%20%20%20%20%20%20%20%20%20%7B%22extraClasses%22%3A%20%22fa-rotate-0%22%2C%20%22icon%22%3A%20%22home%22%2C%20%22iconColor%22%3A%20%22white%22%2C%20%22markerColor%22%3A%20%22darkblue%22%2C%20%22prefix%22%3A%20%22glyphicon%22%7D%0A%20%20%20%20%20%20%20%20%20%20%20%20%29%3B%0A%20%20%20%20%20%20%20%20%20%20%20%20marker_e2a393cd30a34b43bf7ca5c27432c877.setIcon%28icon_317f3fb08f1c4e08ba7ec4cbd95a5cb8%29%3B%0A%20%20%20%20%20%20%20%20%0A%20%20%20%20%0A%20%20%20%20%20%20%20%20var%20popup_7ded09c526654cf0b9d2e02968bf9d09%20%3D%20L.popup%28%7B%22maxWidth%22%3A%20%22100%25%22%7D%29%3B%0A%0A%20%20%20%20%20%20%20%20%0A%20%20%20%20%20%20%20%20%20%20%20%20var%20html_5aa23218a97340a19739c77aeac52be1%20%3D%20%24%28%60%3Cdiv%20id%3D%22html_5aa23218a97340a19739c77aeac52be1%22%20style%3D%22width%3A%20100.0%25%3B%20height%3A%20100.0%25%3B%22%3EBremen%3C/div%3E%60%29%5B0%5D%3B%0A%20%20%20%20%20%20%20%20%20%20%20%20popup_7ded09c526654cf0b9d2e02968bf9d09.setContent%28html_5aa23218a97340a19739c77aeac52be1%29%3B%0A%20%20%20%20%20%20%20%20%0A%0A%20%20%20%20%20%20%20%20marker_e2a393cd30a34b43bf7ca5c27432c877.bindPopup%28popup_7ded09c526654cf0b9d2e02968bf9d09%29%0A%20%20%20%20%20%20%20%20%3B%0A%0A%20%20%20%20%20%20%20%20%0A%20%20%20%20%0A%20%20%20%20%0A%20%20%20%20%20%20%20%20%20%20%20%20marker_e2a393cd30a34b43bf7ca5c27432c877.bindTooltip%28%0A%20%20%20%20%20%20%20%20%20%20%20%20%20%20%20%20%60%3Cdiv%3E%0A%20%20%20%20%20%20%20%20%20%20%20%20%20%20%20%20%20%20%20%20%20Bremen%0A%20%20%20%20%20%20%20%20%20%20%20%20%20%20%20%20%20%3C/div%3E%60%2C%0A%20%20%20%20%20%20%20%20%20%20%20%20%20%20%20%20%7B%22sticky%22%3A%20true%7D%0A%20%20%20%20%20%20%20%20%20%20%20%20%29%3B%0A%20%20%20%20%20%20%20%20%0A%20%20%20%20%0A%20%20%20%20%20%20%20%20%20%20%20%20var%20poly_line_f29a855a481f4c31b8224421539f7147%20%3D%20L.polyline%28%0A%20%20%20%20%20%20%20%20%20%20%20%20%20%20%20%20%5B%5B51.9625101%2C%207.6251879%5D%2C%20%5B52.2733042%2C%208.0455442%5D%2C%20%5B52.0191005%2C%208.531007%5D%2C%20%5B52.3744779%2C%209.7385532%5D%2C%20%5B51.50032665%2C%209.950655394459552%5D%2C%20%5B51.3154546%2C%209.4924096%5D%2C%20%5B50.8749804%2C%208.0227233%5D%2C%20%5B51.19077325%2C%206.793516713552313%5D%2C%20%5B50.1106444%2C%208.6820917%5D%2C%20%5B49.0068705%2C%208.4034195%5D%2C%20%5B48.7784485%2C%209.1800132%5D%2C%20%5B48.1371079%2C%2011.5753822%5D%2C%20%5B51.0493286%2C%2013.7381437%5D%2C%20%5B52.5186925%2C%2013.3996024%5D%2C%20%5B53.550341%2C%2010.000654%5D%2C%20%5B53.0758196%2C%208.8071646%5D%2C%20%5B51.9625101%2C%207.6251879%5D%5D%2C%0A%20%20%20%20%20%20%20%20%20%20%20%20%20%20%20%20%7B%22bubblingMouseEvents%22%3A%20true%2C%20%22color%22%3A%20%22black%22%2C%20%22dashArray%22%3A%20null%2C%20%22dashOffset%22%3A%20null%2C%20%22fill%22%3A%20false%2C%20%22fillColor%22%3A%20%22black%22%2C%20%22fillOpacity%22%3A%200.2%2C%20%22fillRule%22%3A%20%22evenodd%22%2C%20%22lineCap%22%3A%20%22round%22%2C%20%22lineJoin%22%3A%20%22round%22%2C%20%22noClip%22%3A%20false%2C%20%22opacity%22%3A%201.0%2C%20%22smoothFactor%22%3A%201.0%2C%20%22stroke%22%3A%20true%2C%20%22weight%22%3A%203%7D%0A%20%20%20%20%20%20%20%20%20%20%20%20%29.addTo%28map_87ed09ecc9134e3694cef3d51028f7b7%29%3B%0A%20%20%20%20%20%20%20%20%0A%3C/script%3E onload=\"this.contentDocument.open();this.contentDocument.write(    decodeURIComponent(this.getAttribute('data-html')));this.contentDocument.close();\" allowfullscreen webkitallowfullscreen mozallowfullscreen></iframe></div></div>"
     },
     "execution_count": 66,
     "metadata": {},
     "output_type": "execute_result"
    }
   ],
   "source": [
    "# create map object:\n",
    "map_osm = folium.Map(location=center_point_coords, zoom_start=6, tiles='Open Street Map')\n",
    "\n",
    "# add starting marker:\n",
    "folium.Marker(location=(start_point['lon'], start_point['lat']), popup=start_point['city'], icon=folium.Icon(color='gray', icon='home'),  tooltip='Click here!', draggable=False).add_to(map_osm)\n",
    "\n",
    "# add markers for other cities:\n",
    "for i, city in enumerate(route_dict_inside_list[1:]):\n",
    "\n",
    "    # create icon:\n",
    "    icon = folium.Icon(color='darkblue', icon='car', prefix='fa')\n",
    "    ugly_icon = create_custom_icon(color='blue', number=i+1)\n",
    "\n",
    "\n",
    "    # folium.Marker(location=(city['lon'], city['lat']), popup=city['city'], icon=ugly_icon,  tooltip=city['city'], draggable=False).add_to(map_osm)\n",
    "    folium.Marker(location=(city['lon'], city['lat']), popup=city['city'], icon=folium.Icon(color='darkblue', icon='home'),  tooltip=city['city'], draggable=False).add_to(map_osm)\n",
    "\n",
    "# plot routes:\n",
    "folium.PolyLine(route_list,\n",
    "                color=\"black\",\n",
    "                weight=3).add_to(map_osm)\n",
    "\n",
    "map_osm"
   ],
   "metadata": {
    "collapsed": false,
    "pycharm": {
     "name": "#%%\n"
    }
   }
  },
  {
   "cell_type": "code",
   "execution_count": 67,
   "outputs": [
    {
     "data": {
      "text/plain": "[(51.9625101, 7.6251879),\n (52.2733042, 8.0455442),\n (52.0191005, 8.531007),\n (52.3744779, 9.7385532),\n (51.50032665, 9.950655394459552),\n (51.3154546, 9.4924096),\n (50.8749804, 8.0227233),\n (51.19077325, 6.793516713552313),\n (50.1106444, 8.6820917),\n (49.0068705, 8.4034195),\n (48.7784485, 9.1800132),\n (48.1371079, 11.5753822),\n (51.0493286, 13.7381437),\n (52.5186925, 13.3996024),\n (53.550341, 10.000654),\n (53.0758196, 8.8071646),\n (51.9625101, 7.6251879)]"
     },
     "execution_count": 67,
     "metadata": {},
     "output_type": "execute_result"
    }
   ],
   "source": [
    "route_list"
   ],
   "metadata": {
    "collapsed": false,
    "pycharm": {
     "name": "#%%\n"
    }
   }
  },
  {
   "cell_type": "code",
   "execution_count": 53,
   "outputs": [],
   "source": [],
   "metadata": {
    "collapsed": false,
    "pycharm": {
     "name": "#%%\n"
    }
   }
  }
 ],
 "metadata": {
  "kernelspec": {
   "display_name": "Python 3 (ipykernel)",
   "language": "python",
   "name": "python3"
  },
  "language_info": {
   "codemirror_mode": {
    "name": "ipython",
    "version": 3
   },
   "file_extension": ".py",
   "mimetype": "text/x-python",
   "name": "python",
   "nbconvert_exporter": "python",
   "pygments_lexer": "ipython3",
   "version": "3.9.7"
  }
 },
 "nbformat": 4,
 "nbformat_minor": 5
}